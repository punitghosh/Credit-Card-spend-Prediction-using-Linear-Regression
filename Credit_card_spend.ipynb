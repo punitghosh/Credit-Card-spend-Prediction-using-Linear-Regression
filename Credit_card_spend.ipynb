{
 "cells": [
  {
   "cell_type": "code",
   "execution_count": 1,
   "metadata": {},
   "outputs": [],
   "source": [
    "import pandas as pd\n",
    "import numpy as np\n",
    "import gc\n",
    "import matplotlib.pyplot as plt\n",
    "%matplotlib inline\n",
    "import seaborn as sns"
   ]
  },
  {
   "cell_type": "code",
   "execution_count": 2,
   "metadata": {},
   "outputs": [],
   "source": [
    "# Creating an Excel File for output..\n",
    "writer=pd.ExcelWriter('Regression_Output.xlsx', engine='xlsxwriter')"
   ]
  },
  {
   "cell_type": "code",
   "execution_count": 3,
   "metadata": {},
   "outputs": [],
   "source": [
    "gc.enable()"
   ]
  },
  {
   "cell_type": "code",
   "execution_count": 4,
   "metadata": {},
   "outputs": [
    {
     "data": {
      "text/html": [
       "<div>\n",
       "<style scoped>\n",
       "    .dataframe tbody tr th:only-of-type {\n",
       "        vertical-align: middle;\n",
       "    }\n",
       "\n",
       "    .dataframe tbody tr th {\n",
       "        vertical-align: top;\n",
       "    }\n",
       "\n",
       "    .dataframe thead th {\n",
       "        text-align: right;\n",
       "    }\n",
       "</style>\n",
       "<table border=\"1\" class=\"dataframe\">\n",
       "  <thead>\n",
       "    <tr style=\"text-align: right;\">\n",
       "      <th></th>\n",
       "      <th>custid</th>\n",
       "      <th>region</th>\n",
       "      <th>townsize</th>\n",
       "      <th>gender</th>\n",
       "      <th>age</th>\n",
       "      <th>agecat</th>\n",
       "      <th>birthmonth</th>\n",
       "      <th>ed</th>\n",
       "      <th>edcat</th>\n",
       "      <th>jobcat</th>\n",
       "      <th>...</th>\n",
       "      <th>owncd</th>\n",
       "      <th>ownpda</th>\n",
       "      <th>ownpc</th>\n",
       "      <th>ownipod</th>\n",
       "      <th>owngame</th>\n",
       "      <th>ownfax</th>\n",
       "      <th>news</th>\n",
       "      <th>response_01</th>\n",
       "      <th>response_02</th>\n",
       "      <th>response_03</th>\n",
       "    </tr>\n",
       "  </thead>\n",
       "  <tbody>\n",
       "    <tr>\n",
       "      <td>0</td>\n",
       "      <td>3964-QJWTRG-NPN</td>\n",
       "      <td>1</td>\n",
       "      <td>2.0</td>\n",
       "      <td>1</td>\n",
       "      <td>20</td>\n",
       "      <td>2</td>\n",
       "      <td>September</td>\n",
       "      <td>15</td>\n",
       "      <td>3</td>\n",
       "      <td>1</td>\n",
       "      <td>...</td>\n",
       "      <td>0</td>\n",
       "      <td>0</td>\n",
       "      <td>0</td>\n",
       "      <td>1</td>\n",
       "      <td>1</td>\n",
       "      <td>0</td>\n",
       "      <td>0</td>\n",
       "      <td>0</td>\n",
       "      <td>1</td>\n",
       "      <td>0</td>\n",
       "    </tr>\n",
       "    <tr>\n",
       "      <td>1</td>\n",
       "      <td>0648-AIPJSP-UVM</td>\n",
       "      <td>5</td>\n",
       "      <td>5.0</td>\n",
       "      <td>0</td>\n",
       "      <td>22</td>\n",
       "      <td>2</td>\n",
       "      <td>May</td>\n",
       "      <td>17</td>\n",
       "      <td>4</td>\n",
       "      <td>2</td>\n",
       "      <td>...</td>\n",
       "      <td>1</td>\n",
       "      <td>1</td>\n",
       "      <td>1</td>\n",
       "      <td>1</td>\n",
       "      <td>1</td>\n",
       "      <td>1</td>\n",
       "      <td>1</td>\n",
       "      <td>0</td>\n",
       "      <td>0</td>\n",
       "      <td>0</td>\n",
       "    </tr>\n",
       "    <tr>\n",
       "      <td>2</td>\n",
       "      <td>5195-TLUDJE-HVO</td>\n",
       "      <td>3</td>\n",
       "      <td>4.0</td>\n",
       "      <td>1</td>\n",
       "      <td>67</td>\n",
       "      <td>6</td>\n",
       "      <td>June</td>\n",
       "      <td>14</td>\n",
       "      <td>2</td>\n",
       "      <td>2</td>\n",
       "      <td>...</td>\n",
       "      <td>1</td>\n",
       "      <td>0</td>\n",
       "      <td>0</td>\n",
       "      <td>0</td>\n",
       "      <td>0</td>\n",
       "      <td>0</td>\n",
       "      <td>1</td>\n",
       "      <td>0</td>\n",
       "      <td>0</td>\n",
       "      <td>0</td>\n",
       "    </tr>\n",
       "  </tbody>\n",
       "</table>\n",
       "<p>3 rows × 130 columns</p>\n",
       "</div>"
      ],
      "text/plain": [
       "            custid  region  townsize  gender  age  agecat birthmonth  ed  \\\n",
       "0  3964-QJWTRG-NPN       1       2.0       1   20       2  September  15   \n",
       "1  0648-AIPJSP-UVM       5       5.0       0   22       2        May  17   \n",
       "2  5195-TLUDJE-HVO       3       4.0       1   67       6       June  14   \n",
       "\n",
       "   edcat  jobcat  ...  owncd  ownpda  ownpc  ownipod  owngame  ownfax  news  \\\n",
       "0      3       1  ...      0       0      0        1        1       0     0   \n",
       "1      4       2  ...      1       1      1        1        1       1     1   \n",
       "2      2       2  ...      1       0      0        0        0       0     1   \n",
       "\n",
       "   response_01  response_02  response_03  \n",
       "0            0            1            0  \n",
       "1            0            0            0  \n",
       "2            0            0            0  \n",
       "\n",
       "[3 rows x 130 columns]"
      ]
     },
     "execution_count": 4,
     "metadata": {},
     "output_type": "execute_result"
    }
   ],
   "source": [
    "credit_spend=  pd.read_excel('Data Set.xlsx',encoding= 'cp1252')\n",
    "credit_spend.head(3)"
   ]
  },
  {
   "cell_type": "code",
   "execution_count": 5,
   "metadata": {},
   "outputs": [
    {
     "name": "stdout",
     "output_type": "stream",
     "text": [
      "<class 'pandas.core.frame.DataFrame'>\n",
      "RangeIndex: 5000 entries, 0 to 4999\n",
      "Columns: 130 entries, custid to response_03\n",
      "dtypes: float64(31), int64(97), object(2)\n",
      "memory usage: 5.0+ MB\n"
     ]
    }
   ],
   "source": [
    "credit_spend.info()"
   ]
  },
  {
   "cell_type": "markdown",
   "metadata": {},
   "source": [
    "# Finding Categorical and Numerical Variables in a Dataset"
   ]
  },
  {
   "cell_type": "code",
   "execution_count": 6,
   "metadata": {},
   "outputs": [],
   "source": [
    "# Categorical List= Contains categorical variables..\n",
    "cat_var=['region','townsize','gender','agecat','birthmonth','edcat','jobcat','union','employ','empcat','retire','inccat',\n",
    "         'default','jobsat','marital','spousedcat','homeown','hometype','address','addresscat','cars','carown','cartype',\n",
    "         'carcatvalue','carbought','carbuy','commute','commutecat','commutecar','commutemotorcycle','commutecarpool',\n",
    "         'commutebus','commuterail','commutepublic','commutebike','commutewalk','commutenonmotor','telecommute','reason',\n",
    "         'polview','polparty','polcontrib','vote','card','cardtype','cardbenefit','cardfee','cardtenure','cardtenurecat',\n",
    "         'card2','card2type','card2benefit','card2fee','card2tenure','card2tenurecat','active','bfast','churn','tollfree',\n",
    "         'equip','callcard','wireless','multline','voice','pager','internet','callid','callwait','forward','confer','ebill',\n",
    "         'owntv','ownvcr','owndvd','owncd','ownpda','ownpc','ownipod','owngame','ownfax','news','response_01','response_02',\n",
    "         'response_03']"
   ]
  },
  {
   "cell_type": "code",
   "execution_count": 7,
   "metadata": {},
   "outputs": [
    {
     "data": {
      "text/plain": [
       "['custid',\n",
       " 'age',\n",
       " 'ed',\n",
       " 'income',\n",
       " 'lninc',\n",
       " 'debtinc',\n",
       " 'creddebt',\n",
       " 'lncreddebt',\n",
       " 'othdebt',\n",
       " 'lnothdebt',\n",
       " 'spoused',\n",
       " 'reside',\n",
       " 'pets',\n",
       " 'pets_cats',\n",
       " 'pets_dogs',\n",
       " 'pets_birds',\n",
       " 'pets_reptiles',\n",
       " 'pets_small',\n",
       " 'pets_saltfish',\n",
       " 'pets_freshfish',\n",
       " 'carvalue',\n",
       " 'commutetime',\n",
       " 'cardspent',\n",
       " 'card2spent',\n",
       " 'tenure',\n",
       " 'longmon',\n",
       " 'lnlongmon',\n",
       " 'longten',\n",
       " 'lnlongten',\n",
       " 'tollmon',\n",
       " 'lntollmon',\n",
       " 'tollten',\n",
       " 'lntollten',\n",
       " 'equipmon',\n",
       " 'lnequipmon',\n",
       " 'equipten',\n",
       " 'lnequipten',\n",
       " 'cardmon',\n",
       " 'lncardmon',\n",
       " 'cardten',\n",
       " 'lncardten',\n",
       " 'wiremon',\n",
       " 'lnwiremon',\n",
       " 'wireten',\n",
       " 'lnwireten',\n",
       " 'hourstv']"
      ]
     },
     "execution_count": 7,
     "metadata": {},
     "output_type": "execute_result"
    }
   ],
   "source": [
    "numerical_var= [var for var in credit_spend.columns if var not in cat_var]\n",
    "numerical_var"
   ]
  },
  {
   "cell_type": "code",
   "execution_count": 8,
   "metadata": {},
   "outputs": [
    {
     "data": {
      "text/plain": [
       "10130"
      ]
     },
     "execution_count": 8,
     "metadata": {},
     "output_type": "execute_result"
    }
   ],
   "source": [
    "credit_spend.drop('custid',axis=1,inplace= True)\n",
    "gc.collect()"
   ]
  },
  {
   "cell_type": "code",
   "execution_count": 9,
   "metadata": {},
   "outputs": [
    {
     "name": "stdout",
     "output_type": "stream",
     "text": [
      "<class 'pandas.core.frame.DataFrame'>\n",
      "RangeIndex: 5000 entries, 0 to 4999\n",
      "Columns: 129 entries, region to response_03\n",
      "dtypes: float64(31), int64(97), object(1)\n",
      "memory usage: 4.9+ MB\n"
     ]
    }
   ],
   "source": [
    "credit_spend.info()"
   ]
  },
  {
   "cell_type": "code",
   "execution_count": 10,
   "metadata": {},
   "outputs": [
    {
     "data": {
      "text/html": [
       "<div>\n",
       "<style scoped>\n",
       "    .dataframe tbody tr th:only-of-type {\n",
       "        vertical-align: middle;\n",
       "    }\n",
       "\n",
       "    .dataframe tbody tr th {\n",
       "        vertical-align: top;\n",
       "    }\n",
       "\n",
       "    .dataframe thead th {\n",
       "        text-align: right;\n",
       "    }\n",
       "</style>\n",
       "<table border=\"1\" class=\"dataframe\">\n",
       "  <thead>\n",
       "    <tr style=\"text-align: right;\">\n",
       "      <th></th>\n",
       "      <th>region</th>\n",
       "      <th>townsize</th>\n",
       "      <th>gender</th>\n",
       "      <th>age</th>\n",
       "      <th>agecat</th>\n",
       "      <th>birthmonth</th>\n",
       "      <th>ed</th>\n",
       "      <th>edcat</th>\n",
       "      <th>jobcat</th>\n",
       "      <th>union</th>\n",
       "      <th>...</th>\n",
       "      <th>ownpda</th>\n",
       "      <th>ownpc</th>\n",
       "      <th>ownipod</th>\n",
       "      <th>owngame</th>\n",
       "      <th>ownfax</th>\n",
       "      <th>news</th>\n",
       "      <th>response_01</th>\n",
       "      <th>response_02</th>\n",
       "      <th>response_03</th>\n",
       "      <th>total_spent</th>\n",
       "    </tr>\n",
       "  </thead>\n",
       "  <tbody>\n",
       "    <tr>\n",
       "      <td>0</td>\n",
       "      <td>1</td>\n",
       "      <td>2.0</td>\n",
       "      <td>1</td>\n",
       "      <td>20</td>\n",
       "      <td>2</td>\n",
       "      <td>September</td>\n",
       "      <td>15</td>\n",
       "      <td>3</td>\n",
       "      <td>1</td>\n",
       "      <td>1</td>\n",
       "      <td>...</td>\n",
       "      <td>0</td>\n",
       "      <td>0</td>\n",
       "      <td>1</td>\n",
       "      <td>1</td>\n",
       "      <td>0</td>\n",
       "      <td>0</td>\n",
       "      <td>0</td>\n",
       "      <td>1</td>\n",
       "      <td>0</td>\n",
       "      <td>149.46</td>\n",
       "    </tr>\n",
       "    <tr>\n",
       "      <td>1</td>\n",
       "      <td>5</td>\n",
       "      <td>5.0</td>\n",
       "      <td>0</td>\n",
       "      <td>22</td>\n",
       "      <td>2</td>\n",
       "      <td>May</td>\n",
       "      <td>17</td>\n",
       "      <td>4</td>\n",
       "      <td>2</td>\n",
       "      <td>0</td>\n",
       "      <td>...</td>\n",
       "      <td>1</td>\n",
       "      <td>1</td>\n",
       "      <td>1</td>\n",
       "      <td>1</td>\n",
       "      <td>1</td>\n",
       "      <td>1</td>\n",
       "      <td>0</td>\n",
       "      <td>0</td>\n",
       "      <td>0</td>\n",
       "      <td>77.54</td>\n",
       "    </tr>\n",
       "  </tbody>\n",
       "</table>\n",
       "<p>2 rows × 130 columns</p>\n",
       "</div>"
      ],
      "text/plain": [
       "   region  townsize  gender  age  agecat birthmonth  ed  edcat  jobcat  union  \\\n",
       "0       1       2.0       1   20       2  September  15      3       1      1   \n",
       "1       5       5.0       0   22       2        May  17      4       2      0   \n",
       "\n",
       "   ...  ownpda  ownpc  ownipod  owngame  ownfax  news  response_01  \\\n",
       "0  ...       0      0        1        1       0     0            0   \n",
       "1  ...       1      1        1        1       1     1            0   \n",
       "\n",
       "   response_02  response_03  total_spent  \n",
       "0            1            0       149.46  \n",
       "1            0            0        77.54  \n",
       "\n",
       "[2 rows x 130 columns]"
      ]
     },
     "execution_count": 10,
     "metadata": {},
     "output_type": "execute_result"
    }
   ],
   "source": [
    "credit_spend['total_spent']= credit_spend['cardspent']+credit_spend['card2spent']\n",
    "credit_spend.head(2)"
   ]
  },
  {
   "cell_type": "code",
   "execution_count": 11,
   "metadata": {},
   "outputs": [
    {
     "data": {
      "text/plain": [
       "20"
      ]
     },
     "execution_count": 11,
     "metadata": {},
     "output_type": "execute_result"
    }
   ],
   "source": [
    "credit_spend.drop(['cardspent','card2spent'],axis=1,inplace= True)\n",
    "gc.collect()"
   ]
  },
  {
   "cell_type": "code",
   "execution_count": 12,
   "metadata": {},
   "outputs": [
    {
     "data": {
      "text/plain": [
       "region         0\n",
       "townsize       2\n",
       "gender         0\n",
       "age            0\n",
       "agecat         0\n",
       "              ..\n",
       "news           0\n",
       "response_01    0\n",
       "response_02    0\n",
       "response_03    0\n",
       "total_spent    0\n",
       "Length: 128, dtype: int64"
      ]
     },
     "execution_count": 12,
     "metadata": {},
     "output_type": "execute_result"
    }
   ],
   "source": [
    "misc=credit_spend.isnull().sum()\n",
    "total=5000.00\n",
    "for i in misc.index:\n",
    "    t=misc[i]/total\n",
    "    t=t*100\n",
    "    if t>= 25.00:\n",
    "        credit_spend.drop(i,axis=1,inplace=True)\n",
    "gc.collect()\n",
    "misc"
   ]
  },
  {
   "cell_type": "code",
   "execution_count": 13,
   "metadata": {},
   "outputs": [
    {
     "name": "stdout",
     "output_type": "stream",
     "text": [
      "<class 'pandas.core.frame.DataFrame'>\n",
      "RangeIndex: 5000 entries, 0 to 4999\n",
      "Columns: 120 entries, region to total_spent\n",
      "dtypes: float64(22), int64(97), object(1)\n",
      "memory usage: 4.6+ MB\n"
     ]
    }
   ],
   "source": [
    "credit_spend.info()"
   ]
  },
  {
   "cell_type": "code",
   "execution_count": 14,
   "metadata": {},
   "outputs": [
    {
     "data": {
      "image/png": "[encoded data removed]",
      "text/plain": [
       "<Figure size 432x288 with 1 Axes>"
      ]
     },
     "metadata": {
      "needs_background": "light"
     },
     "output_type": "display_data"
    }
   ],
   "source": [
    "plt.hist(credit_spend['total_spent'],bins=10)\n",
    "plt.show()"
   ]
  },
  {
   "cell_type": "code",
   "execution_count": 15,
   "metadata": {},
   "outputs": [
    {
     "data": {
      "text/html": [
       "<div>\n",
       "<style scoped>\n",
       "    .dataframe tbody tr th:only-of-type {\n",
       "        vertical-align: middle;\n",
       "    }\n",
       "\n",
       "    .dataframe tbody tr th {\n",
       "        vertical-align: top;\n",
       "    }\n",
       "\n",
       "    .dataframe thead th {\n",
       "        text-align: right;\n",
       "    }\n",
       "</style>\n",
       "<table border=\"1\" class=\"dataframe\">\n",
       "  <thead>\n",
       "    <tr style=\"text-align: right;\">\n",
       "      <th></th>\n",
       "      <th>region</th>\n",
       "      <th>townsize</th>\n",
       "      <th>gender</th>\n",
       "      <th>age</th>\n",
       "      <th>agecat</th>\n",
       "      <th>birthmonth</th>\n",
       "      <th>ed</th>\n",
       "      <th>edcat</th>\n",
       "      <th>jobcat</th>\n",
       "      <th>union</th>\n",
       "      <th>...</th>\n",
       "      <th>ownpc</th>\n",
       "      <th>ownipod</th>\n",
       "      <th>owngame</th>\n",
       "      <th>ownfax</th>\n",
       "      <th>news</th>\n",
       "      <th>response_01</th>\n",
       "      <th>response_02</th>\n",
       "      <th>response_03</th>\n",
       "      <th>total_spent</th>\n",
       "      <th>total_spent_ln</th>\n",
       "    </tr>\n",
       "  </thead>\n",
       "  <tbody>\n",
       "    <tr>\n",
       "      <td>0</td>\n",
       "      <td>1</td>\n",
       "      <td>2.0</td>\n",
       "      <td>1</td>\n",
       "      <td>20</td>\n",
       "      <td>2</td>\n",
       "      <td>September</td>\n",
       "      <td>15</td>\n",
       "      <td>3</td>\n",
       "      <td>1</td>\n",
       "      <td>1</td>\n",
       "      <td>...</td>\n",
       "      <td>0</td>\n",
       "      <td>1</td>\n",
       "      <td>1</td>\n",
       "      <td>0</td>\n",
       "      <td>0</td>\n",
       "      <td>0</td>\n",
       "      <td>1</td>\n",
       "      <td>0</td>\n",
       "      <td>149.46</td>\n",
       "      <td>5.007029</td>\n",
       "    </tr>\n",
       "  </tbody>\n",
       "</table>\n",
       "<p>1 rows × 121 columns</p>\n",
       "</div>"
      ],
      "text/plain": [
       "   region  townsize  gender  age  agecat birthmonth  ed  edcat  jobcat  union  \\\n",
       "0       1       2.0       1   20       2  September  15      3       1      1   \n",
       "\n",
       "   ...  ownpc  ownipod  owngame  ownfax  news  response_01  response_02  \\\n",
       "0  ...      0        1        1       0     0            0            1   \n",
       "\n",
       "   response_03  total_spent  total_spent_ln  \n",
       "0            0       149.46        5.007029  \n",
       "\n",
       "[1 rows x 121 columns]"
      ]
     },
     "execution_count": 15,
     "metadata": {},
     "output_type": "execute_result"
    }
   ],
   "source": [
    "credit_spend['total_spent_ln']= np.log(credit_spend['total_spent'])\n",
    "credit_spend.head(1)"
   ]
  },
  {
   "cell_type": "code",
   "execution_count": 16,
   "metadata": {},
   "outputs": [
    {
     "data": {
      "text/plain": [
       "<matplotlib.axes._subplots.AxesSubplot at 0x29c287c52e8>"
      ]
     },
     "execution_count": 16,
     "metadata": {},
     "output_type": "execute_result"
    },
    {
     "data": {
      "image/png": "[encoded data removed]",
      "text/plain": [
       "<Figure size 432x288 with 1 Axes>"
      ]
     },
     "metadata": {
      "needs_background": "light"
     },
     "output_type": "display_data"
    }
   ],
   "source": [
    "credit_spend['total_spent_ln'].plot.hist(bins=20)"
   ]
  },
  {
   "cell_type": "code",
   "execution_count": 17,
   "metadata": {},
   "outputs": [
    {
     "data": {
      "text/plain": [
       "3010"
      ]
     },
     "execution_count": 17,
     "metadata": {},
     "output_type": "execute_result"
    }
   ],
   "source": [
    "credit_spend_1= credit_spend.drop('total_spent',axis=1,inplace=True)\n",
    "gc.collect()"
   ]
  },
  {
   "cell_type": "code",
   "execution_count": 18,
   "metadata": {},
   "outputs": [
    {
     "data": {
      "text/html": [
       "<div>\n",
       "<style scoped>\n",
       "    .dataframe tbody tr th:only-of-type {\n",
       "        vertical-align: middle;\n",
       "    }\n",
       "\n",
       "    .dataframe tbody tr th {\n",
       "        vertical-align: top;\n",
       "    }\n",
       "\n",
       "    .dataframe thead th {\n",
       "        text-align: right;\n",
       "    }\n",
       "</style>\n",
       "<table border=\"1\" class=\"dataframe\">\n",
       "  <thead>\n",
       "    <tr style=\"text-align: right;\">\n",
       "      <th></th>\n",
       "      <th>region</th>\n",
       "      <th>townsize</th>\n",
       "      <th>gender</th>\n",
       "      <th>age</th>\n",
       "      <th>agecat</th>\n",
       "      <th>birthmonth</th>\n",
       "      <th>ed</th>\n",
       "      <th>edcat</th>\n",
       "      <th>jobcat</th>\n",
       "      <th>union</th>\n",
       "      <th>...</th>\n",
       "      <th>ownpda</th>\n",
       "      <th>ownpc</th>\n",
       "      <th>ownipod</th>\n",
       "      <th>owngame</th>\n",
       "      <th>ownfax</th>\n",
       "      <th>news</th>\n",
       "      <th>response_01</th>\n",
       "      <th>response_02</th>\n",
       "      <th>response_03</th>\n",
       "      <th>total_spent_ln</th>\n",
       "    </tr>\n",
       "  </thead>\n",
       "  <tbody>\n",
       "    <tr>\n",
       "      <td>0</td>\n",
       "      <td>1</td>\n",
       "      <td>2.0</td>\n",
       "      <td>1</td>\n",
       "      <td>20</td>\n",
       "      <td>2</td>\n",
       "      <td>September</td>\n",
       "      <td>15</td>\n",
       "      <td>3</td>\n",
       "      <td>1</td>\n",
       "      <td>1</td>\n",
       "      <td>...</td>\n",
       "      <td>0</td>\n",
       "      <td>0</td>\n",
       "      <td>1</td>\n",
       "      <td>1</td>\n",
       "      <td>0</td>\n",
       "      <td>0</td>\n",
       "      <td>0</td>\n",
       "      <td>1</td>\n",
       "      <td>0</td>\n",
       "      <td>5.007029</td>\n",
       "    </tr>\n",
       "  </tbody>\n",
       "</table>\n",
       "<p>1 rows × 120 columns</p>\n",
       "</div>"
      ],
      "text/plain": [
       "   region  townsize  gender  age  agecat birthmonth  ed  edcat  jobcat  union  \\\n",
       "0       1       2.0       1   20       2  September  15      3       1      1   \n",
       "\n",
       "   ...  ownpda  ownpc  ownipod  owngame  ownfax  news  response_01  \\\n",
       "0  ...       0      0        1        1       0     0            0   \n",
       "\n",
       "   response_02  response_03  total_spent_ln  \n",
       "0            1            0        5.007029  \n",
       "\n",
       "[1 rows x 120 columns]"
      ]
     },
     "execution_count": 18,
     "metadata": {},
     "output_type": "execute_result"
    }
   ],
   "source": [
    "credit_spend.head(1)"
   ]
  },
  {
   "cell_type": "markdown",
   "metadata": {},
   "source": [
    "# Dropping variables"
   ]
  },
  {
   "cell_type": "code",
   "execution_count": 19,
   "metadata": {},
   "outputs": [
    {
     "data": {
      "text/plain": [
       "40"
      ]
     },
     "execution_count": 19,
     "metadata": {},
     "output_type": "execute_result"
    }
   ],
   "source": [
    "credit_spend.drop(['addresscat','agecat','cardtenure','commutecat','edcat','equipmon',\n",
    "            'longten', 'spoused','spousedcat'], axis=1, inplace= True)\n",
    "gc.collect()"
   ]
  },
  {
   "cell_type": "code",
   "execution_count": 20,
   "metadata": {},
   "outputs": [
    {
     "data": {
      "text/plain": [
       "<matplotlib.axes._subplots.AxesSubplot at 0x29c277eb518>"
      ]
     },
     "execution_count": 20,
     "metadata": {},
     "output_type": "execute_result"
    },
    {
     "data": {
      "image/png": "[encoded data removed]",
      "text/plain": [
       "<Figure size 432x288 with 1 Axes>"
      ]
     },
     "metadata": {
      "needs_background": "light"
     },
     "output_type": "display_data"
    }
   ],
   "source": [
    "credit_spend.plot.hist(bins=20)"
   ]
  },
  {
   "cell_type": "markdown",
   "metadata": {},
   "source": [
    "# Outlier Treatment and Missing Value Treatment"
   ]
  },
  {
   "cell_type": "code",
   "execution_count": 21,
   "metadata": {},
   "outputs": [],
   "source": [
    "for col in credit_spend:\n",
    "    #get dtype for column\n",
    "    dt = credit_spend[col].dtype \n",
    "    #check if it is a number\n",
    "    if dt == int or dt == float:\n",
    "        credit_spend[col].fillna(credit_spend[col].mean(),inplace=True)\n",
    "credit_spend.to_excel(writer,'Missing Value Treatment',index=True)"
   ]
  },
  {
   "cell_type": "code",
   "execution_count": 22,
   "metadata": {},
   "outputs": [
    {
     "name": "stderr",
     "output_type": "stream",
     "text": [
      "C:\\ProgramData\\Anaconda3\\lib\\site-packages\\ipykernel_launcher.py:6: FutureWarning: clip_upper(threshold) is deprecated, use clip(upper=threshold) instead\n",
      "  \n",
      "C:\\ProgramData\\Anaconda3\\lib\\site-packages\\ipykernel_launcher.py:7: FutureWarning: clip_lower(threshold) is deprecated, use clip(lower=threshold) instead\n",
      "  import sys\n"
     ]
    }
   ],
   "source": [
    "for col in credit_spend:\n",
    "    #get dtype for column\n",
    "    dt = credit_spend[col].dtype \n",
    "    #check if it is a number\n",
    "    if dt == int or dt == float:\n",
    "        credit_spend[col]=credit_spend[col].clip_upper(credit_spend[col].quantile(0.99))\n",
    "        credit_spend[col]=credit_spend[col].clip_lower(credit_spend[col].quantile(0.01))\n",
    "credit_spend.to_excel(writer,'Outlier_Treatment',index=True)"
   ]
  },
  {
   "cell_type": "code",
   "execution_count": 23,
   "metadata": {},
   "outputs": [],
   "source": [
    "import sys\n",
    "import warnings\n",
    "\n",
    "if not sys.warnoptions:\n",
    "    warnings.simplefilter(\"ignore\")\n",
    "\n",
    "###########################\n",
    "## IMPORT REQUIRED PACKAGES\n",
    "###########################\n",
    "import xgboost\n",
    "from sklearn.model_selection import GridSearchCV\n",
    "from statsmodels.stats.outliers_influence import variance_inflation_factor\n",
    "import statsmodels.api as sm\n",
    "from sklearn import metrics\n",
    "from sklearn.model_selection import train_test_split\n",
    "from sklearn.linear_model import LinearRegression\n",
    "from sklearn.tree import DecisionTreeRegressor\n",
    "from sklearn.svm import SVC, LinearSVC\n",
    "from sklearn.metrics import mean_squared_error as mse\n",
    "from sklearn.metrics import r2_score as r2\n",
    "from sklearn.decomposition import FactorAnalysis, PCA\n",
    "from statsmodels.formula.api import ols"
   ]
  },
  {
   "cell_type": "code",
   "execution_count": 24,
   "metadata": {},
   "outputs": [
    {
     "data": {
      "text/plain": [
       "['age',\n",
       " 'ed',\n",
       " 'income',\n",
       " 'lninc',\n",
       " 'debtinc',\n",
       " 'creddebt',\n",
       " 'lncreddebt',\n",
       " 'othdebt',\n",
       " 'lnothdebt',\n",
       " 'reside',\n",
       " 'pets',\n",
       " 'pets_cats',\n",
       " 'pets_dogs',\n",
       " 'pets_birds',\n",
       " 'pets_reptiles',\n",
       " 'pets_small',\n",
       " 'pets_saltfish',\n",
       " 'pets_freshfish',\n",
       " 'carvalue',\n",
       " 'commutetime',\n",
       " 'tenure',\n",
       " 'longmon',\n",
       " 'lnlongmon',\n",
       " 'lnlongten',\n",
       " 'tollmon',\n",
       " 'tollten',\n",
       " 'equipten',\n",
       " 'cardmon',\n",
       " 'cardten',\n",
       " 'wiremon',\n",
       " 'wireten',\n",
       " 'hourstv',\n",
       " 'total_spent_ln']"
      ]
     },
     "execution_count": 24,
     "metadata": {},
     "output_type": "execute_result"
    }
   ],
   "source": [
    "numerical_var= [var for var in credit_spend.columns if var not in cat_var]\n",
    "numerical_var"
   ]
  },
  {
   "cell_type": "code",
   "execution_count": 25,
   "metadata": {},
   "outputs": [
    {
     "data": {
      "text/html": [
       "<div>\n",
       "<style scoped>\n",
       "    .dataframe tbody tr th:only-of-type {\n",
       "        vertical-align: middle;\n",
       "    }\n",
       "\n",
       "    .dataframe tbody tr th {\n",
       "        vertical-align: top;\n",
       "    }\n",
       "\n",
       "    .dataframe thead th {\n",
       "        text-align: right;\n",
       "    }\n",
       "</style>\n",
       "<table border=\"1\" class=\"dataframe\">\n",
       "  <thead>\n",
       "    <tr style=\"text-align: right;\">\n",
       "      <th></th>\n",
       "      <th>Factor0</th>\n",
       "      <th>Factor1</th>\n",
       "      <th>Factor2</th>\n",
       "      <th>Factor3</th>\n",
       "      <th>Factor4</th>\n",
       "      <th>Factor5</th>\n",
       "      <th>Factor6</th>\n",
       "      <th>Factor7</th>\n",
       "      <th>Factor8</th>\n",
       "      <th>Factor9</th>\n",
       "    </tr>\n",
       "  </thead>\n",
       "  <tbody>\n",
       "    <tr>\n",
       "      <td>age</td>\n",
       "      <td>4.984677</td>\n",
       "      <td>5.384562</td>\n",
       "      <td>4.072431</td>\n",
       "      <td>0.268718</td>\n",
       "      <td>2.377126</td>\n",
       "      <td>-5.637375</td>\n",
       "      <td>6.580380</td>\n",
       "      <td>-12.779553</td>\n",
       "      <td>-0.127229</td>\n",
       "      <td>0.214608</td>\n",
       "    </tr>\n",
       "    <tr>\n",
       "      <td>ed</td>\n",
       "      <td>0.650223</td>\n",
       "      <td>-1.151576</td>\n",
       "      <td>0.027326</td>\n",
       "      <td>-0.006633</td>\n",
       "      <td>0.476752</td>\n",
       "      <td>0.370112</td>\n",
       "      <td>-0.024083</td>\n",
       "      <td>0.128259</td>\n",
       "      <td>-0.261006</td>\n",
       "      <td>0.253692</td>\n",
       "    </tr>\n",
       "    <tr>\n",
       "      <td>income</td>\n",
       "      <td>16.479144</td>\n",
       "      <td>3.879648</td>\n",
       "      <td>-2.768039</td>\n",
       "      <td>-0.423184</td>\n",
       "      <td>52.418985</td>\n",
       "      <td>4.376834</td>\n",
       "      <td>-0.340570</td>\n",
       "      <td>0.223242</td>\n",
       "      <td>1.828606</td>\n",
       "      <td>-0.015598</td>\n",
       "    </tr>\n",
       "    <tr>\n",
       "      <td>lninc</td>\n",
       "      <td>0.206855</td>\n",
       "      <td>0.029655</td>\n",
       "      <td>-0.040733</td>\n",
       "      <td>0.009476</td>\n",
       "      <td>0.570461</td>\n",
       "      <td>0.056431</td>\n",
       "      <td>-0.004395</td>\n",
       "      <td>0.016690</td>\n",
       "      <td>-0.409800</td>\n",
       "      <td>0.003483</td>\n",
       "    </tr>\n",
       "    <tr>\n",
       "      <td>debtinc</td>\n",
       "      <td>0.081828</td>\n",
       "      <td>0.009955</td>\n",
       "      <td>0.078582</td>\n",
       "      <td>-0.010349</td>\n",
       "      <td>0.116430</td>\n",
       "      <td>-0.007059</td>\n",
       "      <td>5.631959</td>\n",
       "      <td>2.646079</td>\n",
       "      <td>0.094097</td>\n",
       "      <td>0.001135</td>\n",
       "    </tr>\n",
       "  </tbody>\n",
       "</table>\n",
       "</div>"
      ],
      "text/plain": [
       "           Factor0   Factor1   Factor2   Factor3    Factor4   Factor5  \\\n",
       "age       4.984677  5.384562  4.072431  0.268718   2.377126 -5.637375   \n",
       "ed        0.650223 -1.151576  0.027326 -0.006633   0.476752  0.370112   \n",
       "income   16.479144  3.879648 -2.768039 -0.423184  52.418985  4.376834   \n",
       "lninc     0.206855  0.029655 -0.040733  0.009476   0.570461  0.056431   \n",
       "debtinc   0.081828  0.009955  0.078582 -0.010349   0.116430 -0.007059   \n",
       "\n",
       "          Factor6    Factor7   Factor8   Factor9  \n",
       "age      6.580380 -12.779553 -0.127229  0.214608  \n",
       "ed      -0.024083   0.128259 -0.261006  0.253692  \n",
       "income  -0.340570   0.223242  1.828606 -0.015598  \n",
       "lninc   -0.004395   0.016690 -0.409800  0.003483  \n",
       "debtinc  5.631959   2.646079  0.094097  0.001135  "
      ]
     },
     "execution_count": 25,
     "metadata": {},
     "output_type": "execute_result"
    }
   ],
   "source": [
    "numerical_credit= credit_spend[numerical_var]\n",
    "factor=FactorAnalysis(10).fit(numerical_credit)\n",
    "F_analysis=pd.DataFrame(factor.components_,columns=numerical_var).T\n",
    "F_analysis=F_analysis.add_prefix('Factor')\n",
    "F_analysis.to_excel(writer,'Factor Analysis',index=True)\n",
    "F_analysis.head()"
   ]
  },
  {
   "cell_type": "code",
   "execution_count": 26,
   "metadata": {},
   "outputs": [],
   "source": [
    "credit_spend.drop(['income','creddebt','othdebt'],axis=1, inplace= True)\n",
    "#Droping these variables because log of these varibales are already present in the data."
   ]
  },
  {
   "cell_type": "code",
   "execution_count": 27,
   "metadata": {},
   "outputs": [
    {
     "name": "stdout",
     "output_type": "stream",
     "text": [
      "Explained variance by component: [5.43307959e-01 2.27751947e-01 1.48707885e-01 7.89600798e-02\n",
      " 9.47270948e-04 1.19097366e-04 5.34078549e-05 4.71887285e-05\n",
      " 2.50265460e-05 1.72068666e-05 1.44314660e-05 1.10595160e-05\n",
      " 1.02049408e-05 8.25541110e-06 6.35069517e-06 5.93435943e-06\n",
      " 2.52648406e-06 1.36310333e-06 7.65581096e-07 5.24189235e-07\n",
      " 4.93517969e-07 2.13983247e-07 1.87836281e-07 1.23632641e-07\n",
      " 1.06807301e-07 1.03746623e-07 8.62048050e-08 7.17082976e-08\n",
      " 6.58735076e-08 3.64504050e-08 1.66183390e-08 8.87302017e-09\n",
      " 3.36001493e-33]\n",
      "pd.DataFrame[pca.components_,columns=numerical_var]\n"
     ]
    }
   ],
   "source": [
    "pca= PCA().fit(numerical_credit)\n",
    "print (\"Explained variance by component: %s\" % pca.explained_variance_ratio_)\n",
    "print(\"pd.DataFrame[pca.components_,columns=numerical_var]\")"
   ]
  },
  {
   "cell_type": "code",
   "execution_count": 28,
   "metadata": {},
   "outputs": [
    {
     "data": {
      "text/html": [
       "<div>\n",
       "<style scoped>\n",
       "    .dataframe tbody tr th:only-of-type {\n",
       "        vertical-align: middle;\n",
       "    }\n",
       "\n",
       "    .dataframe tbody tr th {\n",
       "        vertical-align: top;\n",
       "    }\n",
       "\n",
       "    .dataframe thead th {\n",
       "        text-align: right;\n",
       "    }\n",
       "</style>\n",
       "<table border=\"1\" class=\"dataframe\">\n",
       "  <thead>\n",
       "    <tr style=\"text-align: right;\">\n",
       "      <th></th>\n",
       "      <th>total_spent_ln</th>\n",
       "    </tr>\n",
       "  </thead>\n",
       "  <tbody>\n",
       "    <tr>\n",
       "      <td>region</td>\n",
       "      <td>0.039216</td>\n",
       "    </tr>\n",
       "    <tr>\n",
       "      <td>townsize</td>\n",
       "      <td>0.006178</td>\n",
       "    </tr>\n",
       "    <tr>\n",
       "      <td>gender</td>\n",
       "      <td>-0.078605</td>\n",
       "    </tr>\n",
       "    <tr>\n",
       "      <td>age</td>\n",
       "      <td>0.007270</td>\n",
       "    </tr>\n",
       "    <tr>\n",
       "      <td>ed</td>\n",
       "      <td>0.098565</td>\n",
       "    </tr>\n",
       "  </tbody>\n",
       "</table>\n",
       "</div>"
      ],
      "text/plain": [
       "          total_spent_ln\n",
       "region          0.039216\n",
       "townsize        0.006178\n",
       "gender         -0.078605\n",
       "age             0.007270\n",
       "ed              0.098565"
      ]
     },
     "execution_count": 28,
     "metadata": {},
     "output_type": "execute_result"
    }
   ],
   "source": [
    "corr=pd.DataFrame(credit_spend.corr())\n",
    "corr_spent=pd.DataFrame(corr['total_spent_ln'])\n",
    "corr_spent.to_excel(writer,'Correlation_ln',index=True)\n",
    "corr_spent.head()"
   ]
  },
  {
   "cell_type": "code",
   "execution_count": 29,
   "metadata": {},
   "outputs": [
    {
     "name": "stdout",
     "output_type": "stream",
     "text": [
      "\n",
      "\n"
     ]
    },
    {
     "data": {
      "text/html": [
       "<div>\n",
       "<style scoped>\n",
       "    .dataframe tbody tr th:only-of-type {\n",
       "        vertical-align: middle;\n",
       "    }\n",
       "\n",
       "    .dataframe tbody tr th {\n",
       "        vertical-align: top;\n",
       "    }\n",
       "\n",
       "    .dataframe thead th {\n",
       "        text-align: right;\n",
       "    }\n",
       "</style>\n",
       "<table border=\"1\" class=\"dataframe\">\n",
       "  <thead>\n",
       "    <tr style=\"text-align: right;\">\n",
       "      <th></th>\n",
       "      <th>Variable</th>\n",
       "      <th>N</th>\n",
       "      <th>Mean</th>\n",
       "      <th>SD</th>\n",
       "      <th>SE</th>\n",
       "      <th>95% Conf.</th>\n",
       "      <th>Interval</th>\n",
       "    </tr>\n",
       "  </thead>\n",
       "  <tbody>\n",
       "    <tr>\n",
       "      <td>0</td>\n",
       "      <td>age</td>\n",
       "      <td>5000.0</td>\n",
       "      <td>47.025600</td>\n",
       "      <td>17.770338</td>\n",
       "      <td>0.251311</td>\n",
       "      <td>46.532921</td>\n",
       "      <td>47.518279</td>\n",
       "    </tr>\n",
       "    <tr>\n",
       "      <td>1</td>\n",
       "      <td>ed</td>\n",
       "      <td>5000.0</td>\n",
       "      <td>14.543000</td>\n",
       "      <td>3.281083</td>\n",
       "      <td>0.046402</td>\n",
       "      <td>14.452033</td>\n",
       "      <td>14.633967</td>\n",
       "    </tr>\n",
       "    <tr>\n",
       "      <td>2</td>\n",
       "      <td>income</td>\n",
       "      <td>5000.0</td>\n",
       "      <td>54.759600</td>\n",
       "      <td>55.377511</td>\n",
       "      <td>0.783156</td>\n",
       "      <td>53.224270</td>\n",
       "      <td>56.294930</td>\n",
       "    </tr>\n",
       "    <tr>\n",
       "      <td>3</td>\n",
       "      <td>lninc</td>\n",
       "      <td>5000.0</td>\n",
       "      <td>3.697049</td>\n",
       "      <td>0.738495</td>\n",
       "      <td>0.010444</td>\n",
       "      <td>3.676575</td>\n",
       "      <td>3.717524</td>\n",
       "    </tr>\n",
       "    <tr>\n",
       "      <td>4</td>\n",
       "      <td>debtinc</td>\n",
       "      <td>5000.0</td>\n",
       "      <td>9.914120</td>\n",
       "      <td>6.241691</td>\n",
       "      <td>0.088271</td>\n",
       "      <td>9.741070</td>\n",
       "      <td>10.087170</td>\n",
       "    </tr>\n",
       "    <tr>\n",
       "      <td>5</td>\n",
       "      <td>creddebt</td>\n",
       "      <td>5000.0</td>\n",
       "      <td>1.758369</td>\n",
       "      <td>2.380681</td>\n",
       "      <td>0.033668</td>\n",
       "      <td>1.692365</td>\n",
       "      <td>1.824373</td>\n",
       "    </tr>\n",
       "    <tr>\n",
       "      <td>6</td>\n",
       "      <td>lncreddebt</td>\n",
       "      <td>5000.0</td>\n",
       "      <td>-0.127780</td>\n",
       "      <td>1.241272</td>\n",
       "      <td>0.017554</td>\n",
       "      <td>-0.162194</td>\n",
       "      <td>-0.093366</td>\n",
       "    </tr>\n",
       "    <tr>\n",
       "      <td>7</td>\n",
       "      <td>othdebt</td>\n",
       "      <td>5000.0</td>\n",
       "      <td>3.522506</td>\n",
       "      <td>4.221760</td>\n",
       "      <td>0.059705</td>\n",
       "      <td>3.405459</td>\n",
       "      <td>3.639554</td>\n",
       "    </tr>\n",
       "    <tr>\n",
       "      <td>8</td>\n",
       "      <td>lnothdebt</td>\n",
       "      <td>5000.0</td>\n",
       "      <td>0.698385</td>\n",
       "      <td>1.104418</td>\n",
       "      <td>0.015619</td>\n",
       "      <td>0.667765</td>\n",
       "      <td>0.729005</td>\n",
       "    </tr>\n",
       "    <tr>\n",
       "      <td>9</td>\n",
       "      <td>reside</td>\n",
       "      <td>5000.0</td>\n",
       "      <td>2.204000</td>\n",
       "      <td>1.393977</td>\n",
       "      <td>0.019714</td>\n",
       "      <td>2.165352</td>\n",
       "      <td>2.242648</td>\n",
       "    </tr>\n",
       "    <tr>\n",
       "      <td>10</td>\n",
       "      <td>pets</td>\n",
       "      <td>5000.0</td>\n",
       "      <td>3.067400</td>\n",
       "      <td>3.414497</td>\n",
       "      <td>0.048288</td>\n",
       "      <td>2.972734</td>\n",
       "      <td>3.162066</td>\n",
       "    </tr>\n",
       "    <tr>\n",
       "      <td>11</td>\n",
       "      <td>pets_cats</td>\n",
       "      <td>5000.0</td>\n",
       "      <td>0.500400</td>\n",
       "      <td>0.860783</td>\n",
       "      <td>0.012173</td>\n",
       "      <td>0.476535</td>\n",
       "      <td>0.524265</td>\n",
       "    </tr>\n",
       "    <tr>\n",
       "      <td>12</td>\n",
       "      <td>pets_dogs</td>\n",
       "      <td>5000.0</td>\n",
       "      <td>0.392400</td>\n",
       "      <td>0.796084</td>\n",
       "      <td>0.011258</td>\n",
       "      <td>0.370329</td>\n",
       "      <td>0.414471</td>\n",
       "    </tr>\n",
       "    <tr>\n",
       "      <td>13</td>\n",
       "      <td>pets_birds</td>\n",
       "      <td>5000.0</td>\n",
       "      <td>0.110400</td>\n",
       "      <td>0.494227</td>\n",
       "      <td>0.006989</td>\n",
       "      <td>0.096698</td>\n",
       "      <td>0.124102</td>\n",
       "    </tr>\n",
       "    <tr>\n",
       "      <td>14</td>\n",
       "      <td>pets_reptiles</td>\n",
       "      <td>5000.0</td>\n",
       "      <td>0.055600</td>\n",
       "      <td>0.325776</td>\n",
       "      <td>0.004607</td>\n",
       "      <td>0.046568</td>\n",
       "      <td>0.064632</td>\n",
       "    </tr>\n",
       "    <tr>\n",
       "      <td>15</td>\n",
       "      <td>pets_small</td>\n",
       "      <td>5000.0</td>\n",
       "      <td>0.114600</td>\n",
       "      <td>0.568798</td>\n",
       "      <td>0.008044</td>\n",
       "      <td>0.098830</td>\n",
       "      <td>0.130370</td>\n",
       "    </tr>\n",
       "    <tr>\n",
       "      <td>16</td>\n",
       "      <td>pets_saltfish</td>\n",
       "      <td>5000.0</td>\n",
       "      <td>0.046600</td>\n",
       "      <td>0.469545</td>\n",
       "      <td>0.006640</td>\n",
       "      <td>0.033582</td>\n",
       "      <td>0.059618</td>\n",
       "    </tr>\n",
       "    <tr>\n",
       "      <td>17</td>\n",
       "      <td>pets_freshfish</td>\n",
       "      <td>5000.0</td>\n",
       "      <td>1.847400</td>\n",
       "      <td>3.074801</td>\n",
       "      <td>0.043484</td>\n",
       "      <td>1.762152</td>\n",
       "      <td>1.932648</td>\n",
       "    </tr>\n",
       "    <tr>\n",
       "      <td>18</td>\n",
       "      <td>carvalue</td>\n",
       "      <td>5000.0</td>\n",
       "      <td>23.202230</td>\n",
       "      <td>21.129844</td>\n",
       "      <td>0.298821</td>\n",
       "      <td>22.616410</td>\n",
       "      <td>23.788050</td>\n",
       "    </tr>\n",
       "    <tr>\n",
       "      <td>19</td>\n",
       "      <td>commutetime</td>\n",
       "      <td>5000.0</td>\n",
       "      <td>25.332038</td>\n",
       "      <td>5.754200</td>\n",
       "      <td>0.081377</td>\n",
       "      <td>25.172504</td>\n",
       "      <td>25.491572</td>\n",
       "    </tr>\n",
       "    <tr>\n",
       "      <td>20</td>\n",
       "      <td>tenure</td>\n",
       "      <td>5000.0</td>\n",
       "      <td>38.204800</td>\n",
       "      <td>22.661888</td>\n",
       "      <td>0.320487</td>\n",
       "      <td>37.576504</td>\n",
       "      <td>38.833096</td>\n",
       "    </tr>\n",
       "    <tr>\n",
       "      <td>21</td>\n",
       "      <td>longmon</td>\n",
       "      <td>5000.0</td>\n",
       "      <td>13.272640</td>\n",
       "      <td>11.551690</td>\n",
       "      <td>0.163366</td>\n",
       "      <td>12.952372</td>\n",
       "      <td>13.592908</td>\n",
       "    </tr>\n",
       "    <tr>\n",
       "      <td>22</td>\n",
       "      <td>lnlongmon</td>\n",
       "      <td>5000.0</td>\n",
       "      <td>2.288612</td>\n",
       "      <td>0.762861</td>\n",
       "      <td>0.010788</td>\n",
       "      <td>2.267462</td>\n",
       "      <td>2.309762</td>\n",
       "    </tr>\n",
       "    <tr>\n",
       "      <td>23</td>\n",
       "      <td>lnlongten</td>\n",
       "      <td>5000.0</td>\n",
       "      <td>5.612269</td>\n",
       "      <td>1.633794</td>\n",
       "      <td>0.023105</td>\n",
       "      <td>5.566972</td>\n",
       "      <td>5.657565</td>\n",
       "    </tr>\n",
       "    <tr>\n",
       "      <td>24</td>\n",
       "      <td>tollmon</td>\n",
       "      <td>5000.0</td>\n",
       "      <td>13.140075</td>\n",
       "      <td>15.811442</td>\n",
       "      <td>0.223608</td>\n",
       "      <td>12.701706</td>\n",
       "      <td>13.578444</td>\n",
       "    </tr>\n",
       "    <tr>\n",
       "      <td>25</td>\n",
       "      <td>tollten</td>\n",
       "      <td>5000.0</td>\n",
       "      <td>570.130195</td>\n",
       "      <td>914.744043</td>\n",
       "      <td>12.936434</td>\n",
       "      <td>544.769109</td>\n",
       "      <td>595.491281</td>\n",
       "    </tr>\n",
       "    <tr>\n",
       "      <td>26</td>\n",
       "      <td>equipten</td>\n",
       "      <td>5000.0</td>\n",
       "      <td>463.398395</td>\n",
       "      <td>882.832804</td>\n",
       "      <td>12.485141</td>\n",
       "      <td>438.922042</td>\n",
       "      <td>487.874748</td>\n",
       "    </tr>\n",
       "    <tr>\n",
       "      <td>27</td>\n",
       "      <td>cardmon</td>\n",
       "      <td>5000.0</td>\n",
       "      <td>15.266950</td>\n",
       "      <td>14.156339</td>\n",
       "      <td>0.200201</td>\n",
       "      <td>14.874468</td>\n",
       "      <td>15.659432</td>\n",
       "    </tr>\n",
       "    <tr>\n",
       "      <td>28</td>\n",
       "      <td>cardten</td>\n",
       "      <td>5000.0</td>\n",
       "      <td>707.236391</td>\n",
       "      <td>848.139057</td>\n",
       "      <td>11.994498</td>\n",
       "      <td>683.721915</td>\n",
       "      <td>730.750868</td>\n",
       "    </tr>\n",
       "    <tr>\n",
       "      <td>29</td>\n",
       "      <td>wiremon</td>\n",
       "      <td>5000.0</td>\n",
       "      <td>10.530270</td>\n",
       "      <td>19.021280</td>\n",
       "      <td>0.269002</td>\n",
       "      <td>10.002909</td>\n",
       "      <td>11.057631</td>\n",
       "    </tr>\n",
       "    <tr>\n",
       "      <td>30</td>\n",
       "      <td>wireten</td>\n",
       "      <td>5000.0</td>\n",
       "      <td>409.960020</td>\n",
       "      <td>930.007398</td>\n",
       "      <td>13.152291</td>\n",
       "      <td>384.175761</td>\n",
       "      <td>435.744279</td>\n",
       "    </tr>\n",
       "    <tr>\n",
       "      <td>31</td>\n",
       "      <td>hourstv</td>\n",
       "      <td>5000.0</td>\n",
       "      <td>19.645000</td>\n",
       "      <td>5.165609</td>\n",
       "      <td>0.073053</td>\n",
       "      <td>19.501785</td>\n",
       "      <td>19.788215</td>\n",
       "    </tr>\n",
       "    <tr>\n",
       "      <td>32</td>\n",
       "      <td>total_spent_ln</td>\n",
       "      <td>5000.0</td>\n",
       "      <td>6.004727</td>\n",
       "      <td>0.644973</td>\n",
       "      <td>0.009121</td>\n",
       "      <td>5.986845</td>\n",
       "      <td>6.022608</td>\n",
       "    </tr>\n",
       "  </tbody>\n",
       "</table>\n",
       "</div>"
      ],
      "text/plain": [
       "          Variable       N        Mean          SD         SE   95% Conf.  \\\n",
       "0              age  5000.0   47.025600   17.770338   0.251311   46.532921   \n",
       "1               ed  5000.0   14.543000    3.281083   0.046402   14.452033   \n",
       "2           income  5000.0   54.759600   55.377511   0.783156   53.224270   \n",
       "3            lninc  5000.0    3.697049    0.738495   0.010444    3.676575   \n",
       "4          debtinc  5000.0    9.914120    6.241691   0.088271    9.741070   \n",
       "5         creddebt  5000.0    1.758369    2.380681   0.033668    1.692365   \n",
       "6       lncreddebt  5000.0   -0.127780    1.241272   0.017554   -0.162194   \n",
       "7          othdebt  5000.0    3.522506    4.221760   0.059705    3.405459   \n",
       "8        lnothdebt  5000.0    0.698385    1.104418   0.015619    0.667765   \n",
       "9           reside  5000.0    2.204000    1.393977   0.019714    2.165352   \n",
       "10            pets  5000.0    3.067400    3.414497   0.048288    2.972734   \n",
       "11       pets_cats  5000.0    0.500400    0.860783   0.012173    0.476535   \n",
       "12       pets_dogs  5000.0    0.392400    0.796084   0.011258    0.370329   \n",
       "13      pets_birds  5000.0    0.110400    0.494227   0.006989    0.096698   \n",
       "14   pets_reptiles  5000.0    0.055600    0.325776   0.004607    0.046568   \n",
       "15      pets_small  5000.0    0.114600    0.568798   0.008044    0.098830   \n",
       "16   pets_saltfish  5000.0    0.046600    0.469545   0.006640    0.033582   \n",
       "17  pets_freshfish  5000.0    1.847400    3.074801   0.043484    1.762152   \n",
       "18        carvalue  5000.0   23.202230   21.129844   0.298821   22.616410   \n",
       "19     commutetime  5000.0   25.332038    5.754200   0.081377   25.172504   \n",
       "20          tenure  5000.0   38.204800   22.661888   0.320487   37.576504   \n",
       "21         longmon  5000.0   13.272640   11.551690   0.163366   12.952372   \n",
       "22       lnlongmon  5000.0    2.288612    0.762861   0.010788    2.267462   \n",
       "23       lnlongten  5000.0    5.612269    1.633794   0.023105    5.566972   \n",
       "24         tollmon  5000.0   13.140075   15.811442   0.223608   12.701706   \n",
       "25         tollten  5000.0  570.130195  914.744043  12.936434  544.769109   \n",
       "26        equipten  5000.0  463.398395  882.832804  12.485141  438.922042   \n",
       "27         cardmon  5000.0   15.266950   14.156339   0.200201   14.874468   \n",
       "28         cardten  5000.0  707.236391  848.139057  11.994498  683.721915   \n",
       "29         wiremon  5000.0   10.530270   19.021280   0.269002   10.002909   \n",
       "30         wireten  5000.0  409.960020  930.007398  13.152291  384.175761   \n",
       "31         hourstv  5000.0   19.645000    5.165609   0.073053   19.501785   \n",
       "32  total_spent_ln  5000.0    6.004727    0.644973   0.009121    5.986845   \n",
       "\n",
       "      Interval  \n",
       "0    47.518279  \n",
       "1    14.633967  \n",
       "2    56.294930  \n",
       "3     3.717524  \n",
       "4    10.087170  \n",
       "5     1.824373  \n",
       "6    -0.093366  \n",
       "7     3.639554  \n",
       "8     0.729005  \n",
       "9     2.242648  \n",
       "10    3.162066  \n",
       "11    0.524265  \n",
       "12    0.414471  \n",
       "13    0.124102  \n",
       "14    0.064632  \n",
       "15    0.130370  \n",
       "16    0.059618  \n",
       "17    1.932648  \n",
       "18   23.788050  \n",
       "19   25.491572  \n",
       "20   38.833096  \n",
       "21   13.592908  \n",
       "22    2.309762  \n",
       "23    5.657565  \n",
       "24   13.578444  \n",
       "25  595.491281  \n",
       "26  487.874748  \n",
       "27   15.659432  \n",
       "28  730.750868  \n",
       "29   11.057631  \n",
       "30  435.744279  \n",
       "31   19.788215  \n",
       "32    6.022608  "
      ]
     },
     "execution_count": 29,
     "metadata": {},
     "output_type": "execute_result"
    }
   ],
   "source": [
    "import researchpy as rp\n",
    "rp.summary_cont(numerical_credit)"
   ]
  },
  {
   "cell_type": "code",
   "execution_count": 30,
   "metadata": {},
   "outputs": [],
   "source": [
    "import pandas_profiling"
   ]
  },
  {
   "cell_type": "raw",
   "metadata": {},
   "source": [
    "report = pandas_profiling.ProfileReport(credit_spend)\n",
    "report.to_file('profile_report.html')"
   ]
  },
  {
   "cell_type": "code",
   "execution_count": 31,
   "metadata": {},
   "outputs": [
    {
     "data": {
      "text/plain": [
       "20"
      ]
     },
     "execution_count": 31,
     "metadata": {},
     "output_type": "execute_result"
    }
   ],
   "source": [
    "credit_spend.drop('bfast',axis=1,inplace=True)\n",
    "gc.collect()"
   ]
  },
  {
   "cell_type": "code",
   "execution_count": 32,
   "metadata": {},
   "outputs": [
    {
     "name": "stdout",
     "output_type": "stream",
     "text": [
      "<class 'pandas.core.frame.DataFrame'>\n",
      "RangeIndex: 5000 entries, 0 to 4999\n",
      "Columns: 107 entries, region to total_spent_ln\n",
      "dtypes: float64(18), int64(88), object(1)\n",
      "memory usage: 4.1+ MB\n"
     ]
    }
   ],
   "source": [
    "credit_spend.info()"
   ]
  },
  {
   "cell_type": "raw",
   "metadata": {},
   "source": [
    "cardmon has 1419 (28.4%) zeros \n",
    "Zeros\n",
    "cardten has 1420 (28.4%) zeros \n",
    "Zeros\n",
    "cardtenure has 91 (1.8%) zeros \n",
    "Zeros\n",
    "cardtenurecat is highly correlated with card2tenurecat (ρ = 0.9243052909) \n",
    "Rejected\n",
    "cars has 497 (9.9%) zeros \n",
    "Zeros\n",
    "employ has 659 (13.2%) zeros \n",
    "Zeros\n",
    "equipten has 3296 (65.9%) zeros \n",
    "Zeros\n",
    "hourstv has 85 (1.7%) zeros \n",
    "Zeros\n",
    "internet has 2498 (50.0%) zeros \n",
    "Zeros\n",
    "pets has 1529 (30.6%) zeros \n",
    "Zeros\n",
    "pets_birds has 4698 (94.0%) zeros \n",
    "Zeros\n",
    "pets_cats has 3413 (68.3%) zeros \n",
    "Zeros\n",
    "pets_dogs has 3762 (75.2%) zeros \n",
    "Zeros\n",
    "pets_freshfish has 3462 (69.2%) zeros \n",
    "Zeros\n",
    "pets_reptiles has 4818 (96.4%) zeros \n",
    "Zeros\n",
    "pets_saltfish has 4942 (98.8%) zeros \n",
    "Zeros\n",
    "pets_small has 4749 (95.0%) zeros \n",
    "Zeros\n",
    "tollmon has 2622 (52.4%) zeros \n",
    "Zeros\n",
    "tollten has 2622 (52.4%) zeros \n",
    "Zeros\n",
    "wiremon is highly correlated with wireless (ρ = 0.9131595305) \n",
    "Rejected\n",
    "wireten "
   ]
  },
  {
   "cell_type": "code",
   "execution_count": 33,
   "metadata": {},
   "outputs": [
    {
     "data": {
      "text/plain": [
       "0"
      ]
     },
     "execution_count": 33,
     "metadata": {},
     "output_type": "execute_result"
    }
   ],
   "source": [
    "credit_spend.drop(['wireten','wiremon','tollten','pets_small','pets_dogs','pets_birds','pets_small','pets_saltfish','pets_reptiles','pets_freshfish','pets','internet','hourstv','equipten','cardtenurecat','card2tenurecat','pets_cats','tollmon','birthmonth'], axis=1,inplace=True)\n",
    "gc.collect()"
   ]
  },
  {
   "cell_type": "code",
   "execution_count": 34,
   "metadata": {},
   "outputs": [
    {
     "data": {
      "text/plain": [
       "20"
      ]
     },
     "execution_count": 34,
     "metadata": {},
     "output_type": "execute_result"
    }
   ],
   "source": [
    "credit_spend['address'].fillna(credit_spend['address'].mean(),inplace= True)\n",
    "credit_spend.drop(['longmon'],axis=1, inplace= True)\n",
    "gc.collect()"
   ]
  },
  {
   "cell_type": "code",
   "execution_count": 35,
   "metadata": {},
   "outputs": [
    {
     "name": "stdout",
     "output_type": "stream",
     "text": [
      "<class 'pandas.core.frame.DataFrame'>\n",
      "RangeIndex: 5000 entries, 0 to 4999\n",
      "Data columns (total 88 columns):\n",
      "region               5000 non-null int64\n",
      "townsize             5000 non-null float64\n",
      "gender               5000 non-null int64\n",
      "age                  5000 non-null int64\n",
      "ed                   5000 non-null int64\n",
      "jobcat               5000 non-null int64\n",
      "union                5000 non-null int64\n",
      "employ               5000 non-null int64\n",
      "empcat               5000 non-null int64\n",
      "retire               5000 non-null int64\n",
      "lninc                5000 non-null float64\n",
      "inccat               5000 non-null int64\n",
      "debtinc              5000 non-null float64\n",
      "lncreddebt           5000 non-null float64\n",
      "lnothdebt            5000 non-null float64\n",
      "default              5000 non-null int64\n",
      "jobsat               5000 non-null int64\n",
      "marital              5000 non-null int64\n",
      "reside               5000 non-null int64\n",
      "homeown              5000 non-null int64\n",
      "hometype             5000 non-null int64\n",
      "address              5000 non-null int64\n",
      "cars                 5000 non-null int64\n",
      "carown               5000 non-null int64\n",
      "cartype              5000 non-null int64\n",
      "carvalue             5000 non-null float64\n",
      "carcatvalue          5000 non-null int64\n",
      "carbought            5000 non-null int64\n",
      "carbuy               5000 non-null int64\n",
      "commute              5000 non-null int64\n",
      "commutetime          5000 non-null float64\n",
      "commutecar           5000 non-null int64\n",
      "commutemotorcycle    5000 non-null int64\n",
      "commutecarpool       5000 non-null int64\n",
      "commutebus           5000 non-null int64\n",
      "commuterail          5000 non-null int64\n",
      "commutepublic        5000 non-null int64\n",
      "commutebike          5000 non-null int64\n",
      "commutewalk          5000 non-null int64\n",
      "commutenonmotor      5000 non-null int64\n",
      "telecommute          5000 non-null int64\n",
      "reason               5000 non-null int64\n",
      "polview              5000 non-null int64\n",
      "polparty             5000 non-null int64\n",
      "polcontrib           5000 non-null int64\n",
      "vote                 5000 non-null int64\n",
      "card                 5000 non-null int64\n",
      "cardtype             5000 non-null int64\n",
      "cardbenefit          5000 non-null int64\n",
      "cardfee              5000 non-null int64\n",
      "card2                5000 non-null int64\n",
      "card2type            5000 non-null int64\n",
      "card2benefit         5000 non-null int64\n",
      "card2fee             5000 non-null int64\n",
      "card2tenure          5000 non-null int64\n",
      "active               5000 non-null int64\n",
      "tenure               5000 non-null int64\n",
      "churn                5000 non-null int64\n",
      "lnlongmon            5000 non-null float64\n",
      "lnlongten            5000 non-null float64\n",
      "tollfree             5000 non-null int64\n",
      "equip                5000 non-null int64\n",
      "callcard             5000 non-null int64\n",
      "cardmon              5000 non-null float64\n",
      "cardten              5000 non-null float64\n",
      "wireless             5000 non-null int64\n",
      "multline             5000 non-null int64\n",
      "voice                5000 non-null int64\n",
      "pager                5000 non-null int64\n",
      "callid               5000 non-null int64\n",
      "callwait             5000 non-null int64\n",
      "forward              5000 non-null int64\n",
      "confer               5000 non-null int64\n",
      "ebill                5000 non-null int64\n",
      "owntv                5000 non-null int64\n",
      "ownvcr               5000 non-null int64\n",
      "owndvd               5000 non-null int64\n",
      "owncd                5000 non-null int64\n",
      "ownpda               5000 non-null int64\n",
      "ownpc                5000 non-null int64\n",
      "ownipod              5000 non-null int64\n",
      "owngame              5000 non-null int64\n",
      "ownfax               5000 non-null int64\n",
      "news                 5000 non-null int64\n",
      "response_01          5000 non-null int64\n",
      "response_02          5000 non-null int64\n",
      "response_03          5000 non-null int64\n",
      "total_spent_ln       5000 non-null float64\n",
      "dtypes: float64(12), int64(76)\n",
      "memory usage: 3.4 MB\n"
     ]
    }
   ],
   "source": [
    "credit_spend.info()"
   ]
  },
  {
   "cell_type": "raw",
   "metadata": {},
   "source": [
    "# Creating Dummy variable for Catagorical Variables and droping its original Variables.\n",
    "#.........\n",
    "# Dummy Creation is done on only these variables because remaning variables are already in dummy form..\n",
    "\n",
    "Dummy= ['region','townsize','gender','agecat','edcat','empcat','card','cardtype','cardbenefit','cardtenurecat','card2','card2type','card2benefit','card2tenurecat']\n",
    "credit_spend['townsize']= credit_spend['townsize'].astype('int64')\n",
    "dummy_variable=[]\n",
    "for i in Dummy:\n",
    "    if i in credit_spend:\n",
    "        col_dummies= pd.get_dummies(credit_spend[i],prefix= i+'_dummy')\n",
    "        credit_spend= pd.concat([credit_spend,col_dummies],axis=1)\n",
    "        for col in list(col_dummies.columns):\n",
    "            dummy_variable.append(col)\n"
   ]
  },
  {
   "cell_type": "code",
   "execution_count": 36,
   "metadata": {},
   "outputs": [
    {
     "data": {
      "text/html": [
       "<div>\n",
       "<style scoped>\n",
       "    .dataframe tbody tr th:only-of-type {\n",
       "        vertical-align: middle;\n",
       "    }\n",
       "\n",
       "    .dataframe tbody tr th {\n",
       "        vertical-align: top;\n",
       "    }\n",
       "\n",
       "    .dataframe thead th {\n",
       "        text-align: right;\n",
       "    }\n",
       "</style>\n",
       "<table border=\"1\" class=\"dataframe\">\n",
       "  <thead>\n",
       "    <tr style=\"text-align: right;\">\n",
       "      <th></th>\n",
       "      <th>0</th>\n",
       "      <th>1</th>\n",
       "      <th>2</th>\n",
       "      <th>3</th>\n",
       "      <th>4</th>\n",
       "    </tr>\n",
       "  </thead>\n",
       "  <tbody>\n",
       "    <tr>\n",
       "      <td>region</td>\n",
       "      <td>1.000000</td>\n",
       "      <td>5.000000</td>\n",
       "      <td>3.000000</td>\n",
       "      <td>4.000000</td>\n",
       "      <td>2.000000</td>\n",
       "    </tr>\n",
       "    <tr>\n",
       "      <td>townsize</td>\n",
       "      <td>2.000000</td>\n",
       "      <td>5.000000</td>\n",
       "      <td>4.000000</td>\n",
       "      <td>3.000000</td>\n",
       "      <td>2.000000</td>\n",
       "    </tr>\n",
       "    <tr>\n",
       "      <td>gender</td>\n",
       "      <td>1.000000</td>\n",
       "      <td>0.000000</td>\n",
       "      <td>1.000000</td>\n",
       "      <td>0.000000</td>\n",
       "      <td>0.000000</td>\n",
       "    </tr>\n",
       "    <tr>\n",
       "      <td>age</td>\n",
       "      <td>20.000000</td>\n",
       "      <td>22.000000</td>\n",
       "      <td>67.000000</td>\n",
       "      <td>23.000000</td>\n",
       "      <td>26.000000</td>\n",
       "    </tr>\n",
       "    <tr>\n",
       "      <td>ed</td>\n",
       "      <td>15.000000</td>\n",
       "      <td>17.000000</td>\n",
       "      <td>14.000000</td>\n",
       "      <td>16.000000</td>\n",
       "      <td>16.000000</td>\n",
       "    </tr>\n",
       "    <tr>\n",
       "      <td>...</td>\n",
       "      <td>...</td>\n",
       "      <td>...</td>\n",
       "      <td>...</td>\n",
       "      <td>...</td>\n",
       "      <td>...</td>\n",
       "    </tr>\n",
       "    <tr>\n",
       "      <td>news</td>\n",
       "      <td>0.000000</td>\n",
       "      <td>1.000000</td>\n",
       "      <td>1.000000</td>\n",
       "      <td>1.000000</td>\n",
       "      <td>0.000000</td>\n",
       "    </tr>\n",
       "    <tr>\n",
       "      <td>response_01</td>\n",
       "      <td>0.000000</td>\n",
       "      <td>0.000000</td>\n",
       "      <td>0.000000</td>\n",
       "      <td>1.000000</td>\n",
       "      <td>0.000000</td>\n",
       "    </tr>\n",
       "    <tr>\n",
       "      <td>response_02</td>\n",
       "      <td>1.000000</td>\n",
       "      <td>0.000000</td>\n",
       "      <td>0.000000</td>\n",
       "      <td>0.000000</td>\n",
       "      <td>1.000000</td>\n",
       "    </tr>\n",
       "    <tr>\n",
       "      <td>response_03</td>\n",
       "      <td>0.000000</td>\n",
       "      <td>0.000000</td>\n",
       "      <td>0.000000</td>\n",
       "      <td>0.000000</td>\n",
       "      <td>0.000000</td>\n",
       "    </tr>\n",
       "    <tr>\n",
       "      <td>total_spent_ln</td>\n",
       "      <td>5.007029</td>\n",
       "      <td>4.350794</td>\n",
       "      <td>5.886021</td>\n",
       "      <td>5.884464</td>\n",
       "      <td>6.230147</td>\n",
       "    </tr>\n",
       "  </tbody>\n",
       "</table>\n",
       "<p>88 rows × 5 columns</p>\n",
       "</div>"
      ],
      "text/plain": [
       "                        0          1          2          3          4\n",
       "region           1.000000   5.000000   3.000000   4.000000   2.000000\n",
       "townsize         2.000000   5.000000   4.000000   3.000000   2.000000\n",
       "gender           1.000000   0.000000   1.000000   0.000000   0.000000\n",
       "age             20.000000  22.000000  67.000000  23.000000  26.000000\n",
       "ed              15.000000  17.000000  14.000000  16.000000  16.000000\n",
       "...                   ...        ...        ...        ...        ...\n",
       "news             0.000000   1.000000   1.000000   1.000000   0.000000\n",
       "response_01      0.000000   0.000000   0.000000   1.000000   0.000000\n",
       "response_02      1.000000   0.000000   0.000000   0.000000   1.000000\n",
       "response_03      0.000000   0.000000   0.000000   0.000000   0.000000\n",
       "total_spent_ln   5.007029   4.350794   5.886021   5.884464   6.230147\n",
       "\n",
       "[88 rows x 5 columns]"
      ]
     },
     "execution_count": 36,
     "metadata": {},
     "output_type": "execute_result"
    }
   ],
   "source": [
    "credit_spend.head().T"
   ]
  },
  {
   "cell_type": "raw",
   "metadata": {},
   "source": [
    "report = pandas_profiling.ProfileReport(credit_spend)\n",
    "report.to_file('profile_report3.html')"
   ]
  },
  {
   "cell_type": "markdown",
   "metadata": {},
   "source": [
    "# Filtered columns for dependent and independent variable selection"
   ]
  },
  {
   "cell_type": "code",
   "execution_count": 37,
   "metadata": {},
   "outputs": [
    {
     "data": {
      "text/html": [
       "<div>\n",
       "<style scoped>\n",
       "    .dataframe tbody tr th:only-of-type {\n",
       "        vertical-align: middle;\n",
       "    }\n",
       "\n",
       "    .dataframe tbody tr th {\n",
       "        vertical-align: top;\n",
       "    }\n",
       "\n",
       "    .dataframe thead th {\n",
       "        text-align: right;\n",
       "    }\n",
       "</style>\n",
       "<table border=\"1\" class=\"dataframe\">\n",
       "  <thead>\n",
       "    <tr style=\"text-align: right;\">\n",
       "      <th></th>\n",
       "      <th>0</th>\n",
       "      <th>1</th>\n",
       "      <th>2</th>\n",
       "      <th>3</th>\n",
       "      <th>4</th>\n",
       "    </tr>\n",
       "  </thead>\n",
       "  <tbody>\n",
       "    <tr>\n",
       "      <td>region</td>\n",
       "      <td>1.000000</td>\n",
       "      <td>5.000000</td>\n",
       "      <td>3.000000</td>\n",
       "      <td>4.000000</td>\n",
       "      <td>2.000000</td>\n",
       "    </tr>\n",
       "    <tr>\n",
       "      <td>commute</td>\n",
       "      <td>8.000000</td>\n",
       "      <td>1.000000</td>\n",
       "      <td>4.000000</td>\n",
       "      <td>1.000000</td>\n",
       "      <td>6.000000</td>\n",
       "    </tr>\n",
       "    <tr>\n",
       "      <td>polcontrib</td>\n",
       "      <td>0.000000</td>\n",
       "      <td>0.000000</td>\n",
       "      <td>0.000000</td>\n",
       "      <td>0.000000</td>\n",
       "      <td>0.000000</td>\n",
       "    </tr>\n",
       "    <tr>\n",
       "      <td>polparty</td>\n",
       "      <td>1.000000</td>\n",
       "      <td>1.000000</td>\n",
       "      <td>1.000000</td>\n",
       "      <td>0.000000</td>\n",
       "      <td>0.000000</td>\n",
       "    </tr>\n",
       "    <tr>\n",
       "      <td>carbuy</td>\n",
       "      <td>0.000000</td>\n",
       "      <td>0.000000</td>\n",
       "      <td>1.000000</td>\n",
       "      <td>1.000000</td>\n",
       "      <td>1.000000</td>\n",
       "    </tr>\n",
       "    <tr>\n",
       "      <td>cardfee</td>\n",
       "      <td>0.000000</td>\n",
       "      <td>0.000000</td>\n",
       "      <td>0.000000</td>\n",
       "      <td>0.000000</td>\n",
       "      <td>0.000000</td>\n",
       "    </tr>\n",
       "    <tr>\n",
       "      <td>carvalue</td>\n",
       "      <td>14.300000</td>\n",
       "      <td>6.800000</td>\n",
       "      <td>18.800000</td>\n",
       "      <td>8.700000</td>\n",
       "      <td>10.600000</td>\n",
       "    </tr>\n",
       "    <tr>\n",
       "      <td>lnothdebt</td>\n",
       "      <td>0.806516</td>\n",
       "      <td>0.449788</td>\n",
       "      <td>0.930738</td>\n",
       "      <td>0.110826</td>\n",
       "      <td>-1.735336</td>\n",
       "    </tr>\n",
       "    <tr>\n",
       "      <td>default</td>\n",
       "      <td>1.000000</td>\n",
       "      <td>1.000000</td>\n",
       "      <td>0.000000</td>\n",
       "      <td>1.000000</td>\n",
       "      <td>0.000000</td>\n",
       "    </tr>\n",
       "    <tr>\n",
       "      <td>jobsat</td>\n",
       "      <td>1.000000</td>\n",
       "      <td>1.000000</td>\n",
       "      <td>4.000000</td>\n",
       "      <td>2.000000</td>\n",
       "      <td>1.000000</td>\n",
       "    </tr>\n",
       "    <tr>\n",
       "      <td>marital</td>\n",
       "      <td>0.000000</td>\n",
       "      <td>0.000000</td>\n",
       "      <td>1.000000</td>\n",
       "      <td>1.000000</td>\n",
       "      <td>1.000000</td>\n",
       "    </tr>\n",
       "    <tr>\n",
       "      <td>townsize</td>\n",
       "      <td>2.000000</td>\n",
       "      <td>5.000000</td>\n",
       "      <td>4.000000</td>\n",
       "      <td>3.000000</td>\n",
       "      <td>2.000000</td>\n",
       "    </tr>\n",
       "    <tr>\n",
       "      <td>gender</td>\n",
       "      <td>1.000000</td>\n",
       "      <td>0.000000</td>\n",
       "      <td>1.000000</td>\n",
       "      <td>0.000000</td>\n",
       "      <td>0.000000</td>\n",
       "    </tr>\n",
       "    <tr>\n",
       "      <td>age</td>\n",
       "      <td>20.000000</td>\n",
       "      <td>22.000000</td>\n",
       "      <td>67.000000</td>\n",
       "      <td>23.000000</td>\n",
       "      <td>26.000000</td>\n",
       "    </tr>\n",
       "    <tr>\n",
       "      <td>lninc</td>\n",
       "      <td>3.433987</td>\n",
       "      <td>2.708050</td>\n",
       "      <td>3.555348</td>\n",
       "      <td>2.995732</td>\n",
       "      <td>3.135494</td>\n",
       "    </tr>\n",
       "    <tr>\n",
       "      <td>debtinc</td>\n",
       "      <td>11.100000</td>\n",
       "      <td>18.600000</td>\n",
       "      <td>9.900000</td>\n",
       "      <td>5.700000</td>\n",
       "      <td>1.700000</td>\n",
       "    </tr>\n",
       "    <tr>\n",
       "      <td>lncreddebt</td>\n",
       "      <td>0.183079</td>\n",
       "      <td>0.200505</td>\n",
       "      <td>-0.074056</td>\n",
       "      <td>-3.401644</td>\n",
       "      <td>-1.538705</td>\n",
       "    </tr>\n",
       "    <tr>\n",
       "      <td>churn</td>\n",
       "      <td>1.000000</td>\n",
       "      <td>0.000000</td>\n",
       "      <td>0.000000</td>\n",
       "      <td>0.000000</td>\n",
       "      <td>0.000000</td>\n",
       "    </tr>\n",
       "    <tr>\n",
       "      <td>ed</td>\n",
       "      <td>15.000000</td>\n",
       "      <td>17.000000</td>\n",
       "      <td>14.000000</td>\n",
       "      <td>16.000000</td>\n",
       "      <td>16.000000</td>\n",
       "    </tr>\n",
       "    <tr>\n",
       "      <td>card</td>\n",
       "      <td>3.000000</td>\n",
       "      <td>2.000000</td>\n",
       "      <td>2.000000</td>\n",
       "      <td>2.000000</td>\n",
       "      <td>4.000000</td>\n",
       "    </tr>\n",
       "    <tr>\n",
       "      <td>cardtype</td>\n",
       "      <td>1.000000</td>\n",
       "      <td>4.000000</td>\n",
       "      <td>1.000000</td>\n",
       "      <td>1.000000</td>\n",
       "      <td>2.000000</td>\n",
       "    </tr>\n",
       "    <tr>\n",
       "      <td>cardbenefit</td>\n",
       "      <td>1.000000</td>\n",
       "      <td>1.000000</td>\n",
       "      <td>4.000000</td>\n",
       "      <td>4.000000</td>\n",
       "      <td>1.000000</td>\n",
       "    </tr>\n",
       "    <tr>\n",
       "      <td>card2</td>\n",
       "      <td>5.000000</td>\n",
       "      <td>4.000000</td>\n",
       "      <td>4.000000</td>\n",
       "      <td>3.000000</td>\n",
       "      <td>1.000000</td>\n",
       "    </tr>\n",
       "    <tr>\n",
       "      <td>card2type</td>\n",
       "      <td>3.000000</td>\n",
       "      <td>1.000000</td>\n",
       "      <td>1.000000</td>\n",
       "      <td>2.000000</td>\n",
       "      <td>3.000000</td>\n",
       "    </tr>\n",
       "    <tr>\n",
       "      <td>card2benefit</td>\n",
       "      <td>1.000000</td>\n",
       "      <td>3.000000</td>\n",
       "      <td>3.000000</td>\n",
       "      <td>4.000000</td>\n",
       "      <td>2.000000</td>\n",
       "    </tr>\n",
       "    <tr>\n",
       "      <td>card2tenure</td>\n",
       "      <td>3.000000</td>\n",
       "      <td>4.000000</td>\n",
       "      <td>25.000000</td>\n",
       "      <td>5.000000</td>\n",
       "      <td>9.000000</td>\n",
       "    </tr>\n",
       "    <tr>\n",
       "      <td>total_spent_ln</td>\n",
       "      <td>5.007029</td>\n",
       "      <td>4.350794</td>\n",
       "      <td>5.886021</td>\n",
       "      <td>5.884464</td>\n",
       "      <td>6.230147</td>\n",
       "    </tr>\n",
       "  </tbody>\n",
       "</table>\n",
       "</div>"
      ],
      "text/plain": [
       "                        0          1          2          3          4\n",
       "region           1.000000   5.000000   3.000000   4.000000   2.000000\n",
       "commute          8.000000   1.000000   4.000000   1.000000   6.000000\n",
       "polcontrib       0.000000   0.000000   0.000000   0.000000   0.000000\n",
       "polparty         1.000000   1.000000   1.000000   0.000000   0.000000\n",
       "carbuy           0.000000   0.000000   1.000000   1.000000   1.000000\n",
       "cardfee          0.000000   0.000000   0.000000   0.000000   0.000000\n",
       "carvalue        14.300000   6.800000  18.800000   8.700000  10.600000\n",
       "lnothdebt        0.806516   0.449788   0.930738   0.110826  -1.735336\n",
       "default          1.000000   1.000000   0.000000   1.000000   0.000000\n",
       "jobsat           1.000000   1.000000   4.000000   2.000000   1.000000\n",
       "marital          0.000000   0.000000   1.000000   1.000000   1.000000\n",
       "townsize         2.000000   5.000000   4.000000   3.000000   2.000000\n",
       "gender           1.000000   0.000000   1.000000   0.000000   0.000000\n",
       "age             20.000000  22.000000  67.000000  23.000000  26.000000\n",
       "lninc            3.433987   2.708050   3.555348   2.995732   3.135494\n",
       "debtinc         11.100000  18.600000   9.900000   5.700000   1.700000\n",
       "lncreddebt       0.183079   0.200505  -0.074056  -3.401644  -1.538705\n",
       "churn            1.000000   0.000000   0.000000   0.000000   0.000000\n",
       "ed              15.000000  17.000000  14.000000  16.000000  16.000000\n",
       "card             3.000000   2.000000   2.000000   2.000000   4.000000\n",
       "cardtype         1.000000   4.000000   1.000000   1.000000   2.000000\n",
       "cardbenefit      1.000000   1.000000   4.000000   4.000000   1.000000\n",
       "card2            5.000000   4.000000   4.000000   3.000000   1.000000\n",
       "card2type        3.000000   1.000000   1.000000   2.000000   3.000000\n",
       "card2benefit     1.000000   3.000000   3.000000   4.000000   2.000000\n",
       "card2tenure      3.000000   4.000000  25.000000   5.000000   9.000000\n",
       "total_spent_ln   5.007029   4.350794   5.886021   5.884464   6.230147"
      ]
     },
     "execution_count": 37,
     "metadata": {},
     "output_type": "execute_result"
    }
   ],
   "source": [
    "Credit= credit_spend.filter(['region','commute','carditems','polcontrib','polparty','card2items','carbuy','cardfee','carvalue','lnothdebt','default','jobsat','marital','townsize','gender','age','lninc','debtinc','lncreddebt','churn','agecat','ed','card','cardtype','cardbenefit','cardtenure','card2','card2type','card2benefit','card2tenure','total_spent_ln'],axis=1)\n",
    "Credit.head().T"
   ]
  },
  {
   "cell_type": "raw",
   "metadata": {},
   "source": [
    "report4 = pandas_profiling.ProfileReport(Credit)\n",
    "report4.to_file('profile_report4.html')"
   ]
  },
  {
   "cell_type": "code",
   "execution_count": 38,
   "metadata": {},
   "outputs": [
    {
     "data": {
      "text/html": [
       "<div>\n",
       "<style scoped>\n",
       "    .dataframe tbody tr th:only-of-type {\n",
       "        vertical-align: middle;\n",
       "    }\n",
       "\n",
       "    .dataframe tbody tr th {\n",
       "        vertical-align: top;\n",
       "    }\n",
       "\n",
       "    .dataframe thead th {\n",
       "        text-align: right;\n",
       "    }\n",
       "</style>\n",
       "<table border=\"1\" class=\"dataframe\">\n",
       "  <thead>\n",
       "    <tr style=\"text-align: right;\">\n",
       "      <th></th>\n",
       "      <th>region</th>\n",
       "      <th>commute</th>\n",
       "      <th>polcontrib</th>\n",
       "      <th>polparty</th>\n",
       "      <th>carbuy</th>\n",
       "      <th>cardfee</th>\n",
       "      <th>carvalue</th>\n",
       "      <th>lnothdebt</th>\n",
       "      <th>default</th>\n",
       "      <th>jobsat</th>\n",
       "      <th>...</th>\n",
       "      <th>ed</th>\n",
       "      <th>card</th>\n",
       "      <th>cardtype</th>\n",
       "      <th>cardbenefit</th>\n",
       "      <th>card2</th>\n",
       "      <th>card2type</th>\n",
       "      <th>card2benefit</th>\n",
       "      <th>card2tenure</th>\n",
       "      <th>total_spent_ln</th>\n",
       "      <th>debtinc_ln</th>\n",
       "    </tr>\n",
       "  </thead>\n",
       "  <tbody>\n",
       "    <tr>\n",
       "      <td>0</td>\n",
       "      <td>1</td>\n",
       "      <td>8</td>\n",
       "      <td>0</td>\n",
       "      <td>1</td>\n",
       "      <td>0</td>\n",
       "      <td>0</td>\n",
       "      <td>14.3</td>\n",
       "      <td>0.806516</td>\n",
       "      <td>1</td>\n",
       "      <td>1</td>\n",
       "      <td>...</td>\n",
       "      <td>15</td>\n",
       "      <td>3</td>\n",
       "      <td>1</td>\n",
       "      <td>1</td>\n",
       "      <td>5</td>\n",
       "      <td>3</td>\n",
       "      <td>1</td>\n",
       "      <td>3</td>\n",
       "      <td>5.007029</td>\n",
       "      <td>2.406945</td>\n",
       "    </tr>\n",
       "  </tbody>\n",
       "</table>\n",
       "<p>1 rows × 28 columns</p>\n",
       "</div>"
      ],
      "text/plain": [
       "   region  commute  polcontrib  polparty  carbuy  cardfee  carvalue  \\\n",
       "0       1        8           0         1       0        0      14.3   \n",
       "\n",
       "   lnothdebt  default  jobsat  ...  ed  card  cardtype  cardbenefit  card2  \\\n",
       "0   0.806516        1       1  ...  15     3         1            1      5   \n",
       "\n",
       "   card2type  card2benefit  card2tenure  total_spent_ln  debtinc_ln  \n",
       "0          3             1            3        5.007029    2.406945  \n",
       "\n",
       "[1 rows x 28 columns]"
      ]
     },
     "execution_count": 38,
     "metadata": {},
     "output_type": "execute_result"
    }
   ],
   "source": [
    "Credit['debtinc_ln']= np.log(Credit['debtinc'])\n",
    "Credit.head(1)"
   ]
  },
  {
   "cell_type": "code",
   "execution_count": 39,
   "metadata": {},
   "outputs": [
    {
     "data": {
      "text/plain": [
       "60"
      ]
     },
     "execution_count": 39,
     "metadata": {},
     "output_type": "execute_result"
    }
   ],
   "source": [
    "Credit.drop('debtinc',axis=1,inplace= True)\n",
    "gc.collect()"
   ]
  },
  {
   "cell_type": "code",
   "execution_count": 40,
   "metadata": {},
   "outputs": [
    {
     "name": "stdout",
     "output_type": "stream",
     "text": [
      "<class 'pandas.core.frame.DataFrame'>\n",
      "RangeIndex: 5000 entries, 0 to 4999\n",
      "Data columns (total 27 columns):\n",
      "region            5000 non-null int64\n",
      "commute           5000 non-null int64\n",
      "polcontrib        5000 non-null int64\n",
      "polparty          5000 non-null int64\n",
      "carbuy            5000 non-null int64\n",
      "cardfee           5000 non-null int64\n",
      "carvalue          5000 non-null float64\n",
      "lnothdebt         5000 non-null float64\n",
      "default           5000 non-null int64\n",
      "jobsat            5000 non-null int64\n",
      "marital           5000 non-null int64\n",
      "townsize          5000 non-null float64\n",
      "gender            5000 non-null int64\n",
      "age               5000 non-null int64\n",
      "lninc             5000 non-null float64\n",
      "lncreddebt        5000 non-null float64\n",
      "churn             5000 non-null int64\n",
      "ed                5000 non-null int64\n",
      "card              5000 non-null int64\n",
      "cardtype          5000 non-null int64\n",
      "cardbenefit       5000 non-null int64\n",
      "card2             5000 non-null int64\n",
      "card2type         5000 non-null int64\n",
      "card2benefit      5000 non-null int64\n",
      "card2tenure       5000 non-null int64\n",
      "total_spent_ln    5000 non-null float64\n",
      "debtinc_ln        5000 non-null float64\n",
      "dtypes: float64(7), int64(20)\n",
      "memory usage: 1.0 MB\n"
     ]
    }
   ],
   "source": [
    "Credit.info()"
   ]
  },
  {
   "cell_type": "raw",
   "metadata": {},
   "source": [
    "credit_spend.drop(['region','townsize','gender','empcat','card','cardtype','cardbenefit','card2','card2type','card2benefit','card2tenurecat'],axis=1, inplace= True)\n",
    "gc.collect()"
   ]
  },
  {
   "cell_type": "markdown",
   "metadata": {},
   "source": [
    "# Linear Regression"
   ]
  },
  {
   "cell_type": "code",
   "execution_count": 41,
   "metadata": {},
   "outputs": [],
   "source": [
    "from sklearn.model_selection import cross_validate\n",
    "from sklearn.metrics import recall_score"
   ]
  },
  {
   "cell_type": "code",
   "execution_count": 42,
   "metadata": {},
   "outputs": [],
   "source": [
    "feature_columns = Credit.columns.difference(['total_spent_ln'])\n",
    "X_train, X_test, y_train, y_test= train_test_split(Credit[feature_columns],Credit['total_spent_ln'], test_size=0.4,random_state=123)"
   ]
  },
  {
   "cell_type": "code",
   "execution_count": 43,
   "metadata": {},
   "outputs": [
    {
     "data": {
      "text/plain": [
       "Index(['age', 'carbuy', 'card', 'card2', 'card2benefit', 'card2tenure',\n",
       "       'card2type', 'cardbenefit', 'cardfee', 'cardtype', 'carvalue', 'churn',\n",
       "       'commute', 'debtinc_ln', 'default', 'ed', 'gender', 'jobsat',\n",
       "       'lncreddebt', 'lninc', 'lnothdebt', 'marital', 'polcontrib', 'polparty',\n",
       "       'region', 'townsize'],\n",
       "      dtype='object')"
      ]
     },
     "execution_count": 43,
     "metadata": {},
     "output_type": "execute_result"
    }
   ],
   "source": [
    "feature_columns"
   ]
  },
  {
   "cell_type": "code",
   "execution_count": 44,
   "metadata": {},
   "outputs": [
    {
     "data": {
      "text/plain": [
       "LinearRegression(copy_X=True, fit_intercept=True, n_jobs=None, normalize=True)"
      ]
     },
     "execution_count": 44,
     "metadata": {},
     "output_type": "execute_result"
    }
   ],
   "source": [
    "regress= LinearRegression(normalize=True)\n",
    "regress.fit(X_train,y_train)"
   ]
  },
  {
   "cell_type": "code",
   "execution_count": 45,
   "metadata": {},
   "outputs": [
    {
     "data": {
      "text/plain": [
       "0.26172830751957943"
      ]
     },
     "execution_count": 45,
     "metadata": {},
     "output_type": "execute_result"
    }
   ],
   "source": [
    "regress.score(X_train,y_train)"
   ]
  },
  {
   "cell_type": "code",
   "execution_count": 46,
   "metadata": {},
   "outputs": [
    {
     "data": {
      "text/plain": [
       "0.2360951506642981"
      ]
     },
     "execution_count": 46,
     "metadata": {},
     "output_type": "execute_result"
    }
   ],
   "source": [
    "regress.score(X_test,y_test)"
   ]
  },
  {
   "cell_type": "code",
   "execution_count": 47,
   "metadata": {},
   "outputs": [
    {
     "name": "stdout",
     "output_type": "stream",
     "text": [
      "[5.81763471 6.28309759 5.84479092 ... 5.87542337 6.20848185 5.43150816]\n"
     ]
    }
   ],
   "source": [
    "Y_pred=print(regress.predict(X_test))"
   ]
  },
  {
   "cell_type": "code",
   "execution_count": 48,
   "metadata": {},
   "outputs": [
    {
     "data": {
      "text/html": [
       "<table class=\"simpletable\">\n",
       "<caption>OLS Regression Results</caption>\n",
       "<tr>\n",
       "  <th>Dep. Variable:</th>     <td>total_spent_ln</td>  <th>  R-squared (uncentered):</th>      <td>   0.991</td> \n",
       "</tr>\n",
       "<tr>\n",
       "  <th>Model:</th>                   <td>OLS</td>       <th>  Adj. R-squared (uncentered):</th> <td>   0.990</td> \n",
       "</tr>\n",
       "<tr>\n",
       "  <th>Method:</th>             <td>Least Squares</td>  <th>  F-statistic:       </th>          <td>1.202e+04</td>\n",
       "</tr>\n",
       "<tr>\n",
       "  <th>Date:</th>             <td>Tue, 10 Sep 2019</td> <th>  Prob (F-statistic):</th>           <td>  0.00</td>  \n",
       "</tr>\n",
       "<tr>\n",
       "  <th>Time:</th>                 <td>16:36:57</td>     <th>  Log-Likelihood:    </th>          <td> -2646.7</td> \n",
       "</tr>\n",
       "<tr>\n",
       "  <th>No. Observations:</th>      <td>  3000</td>      <th>  AIC:               </th>          <td>   5345.</td> \n",
       "</tr>\n",
       "<tr>\n",
       "  <th>Df Residuals:</th>          <td>  2974</td>      <th>  BIC:               </th>          <td>   5502.</td> \n",
       "</tr>\n",
       "<tr>\n",
       "  <th>Df Model:</th>              <td>    26</td>      <th>                     </th>              <td> </td>    \n",
       "</tr>\n",
       "<tr>\n",
       "  <th>Covariance Type:</th>      <td>nonrobust</td>    <th>                     </th>              <td> </td>    \n",
       "</tr>\n",
       "</table>\n",
       "<table class=\"simpletable\">\n",
       "<tr>\n",
       "        <td></td>          <th>coef</th>     <th>std err</th>      <th>t</th>      <th>P>|t|</th>  <th>[0.025</th>    <th>0.975]</th>  \n",
       "</tr>\n",
       "<tr>\n",
       "  <th>age</th>          <td>   -0.0007</td> <td>    0.001</td> <td>   -0.800</td> <td> 0.424</td> <td>   -0.002</td> <td>    0.001</td>\n",
       "</tr>\n",
       "<tr>\n",
       "  <th>carbuy</th>       <td>    0.0259</td> <td>    0.022</td> <td>    1.154</td> <td> 0.249</td> <td>   -0.018</td> <td>    0.070</td>\n",
       "</tr>\n",
       "<tr>\n",
       "  <th>card</th>         <td>   -0.1565</td> <td>    0.010</td> <td>  -15.921</td> <td> 0.000</td> <td>   -0.176</td> <td>   -0.137</td>\n",
       "</tr>\n",
       "<tr>\n",
       "  <th>card2</th>        <td>   -0.0598</td> <td>    0.010</td> <td>   -6.022</td> <td> 0.000</td> <td>   -0.079</td> <td>   -0.040</td>\n",
       "</tr>\n",
       "<tr>\n",
       "  <th>card2benefit</th> <td>    0.0056</td> <td>    0.010</td> <td>    0.584</td> <td> 0.560</td> <td>   -0.013</td> <td>    0.024</td>\n",
       "</tr>\n",
       "<tr>\n",
       "  <th>card2tenure</th>  <td>    0.0004</td> <td>    0.002</td> <td>    0.245</td> <td> 0.807</td> <td>   -0.003</td> <td>    0.004</td>\n",
       "</tr>\n",
       "<tr>\n",
       "  <th>card2type</th>    <td>    0.0066</td> <td>    0.010</td> <td>    0.690</td> <td> 0.490</td> <td>   -0.012</td> <td>    0.025</td>\n",
       "</tr>\n",
       "<tr>\n",
       "  <th>cardbenefit</th>  <td>   -0.0007</td> <td>    0.010</td> <td>   -0.073</td> <td> 0.942</td> <td>   -0.020</td> <td>    0.018</td>\n",
       "</tr>\n",
       "<tr>\n",
       "  <th>cardfee</th>      <td>    0.0112</td> <td>    0.027</td> <td>    0.418</td> <td> 0.676</td> <td>   -0.042</td> <td>    0.064</td>\n",
       "</tr>\n",
       "<tr>\n",
       "  <th>cardtype</th>     <td>    0.0074</td> <td>    0.010</td> <td>    0.778</td> <td> 0.437</td> <td>   -0.011</td> <td>    0.026</td>\n",
       "</tr>\n",
       "<tr>\n",
       "  <th>carvalue</th>     <td>   -0.0023</td> <td>    0.001</td> <td>   -2.607</td> <td> 0.009</td> <td>   -0.004</td> <td>   -0.001</td>\n",
       "</tr>\n",
       "<tr>\n",
       "  <th>churn</th>        <td>    0.0247</td> <td>    0.027</td> <td>    0.905</td> <td> 0.366</td> <td>   -0.029</td> <td>    0.078</td>\n",
       "</tr>\n",
       "<tr>\n",
       "  <th>commute</th>      <td>   -0.0016</td> <td>    0.004</td> <td>   -0.403</td> <td> 0.687</td> <td>   -0.010</td> <td>    0.006</td>\n",
       "</tr>\n",
       "<tr>\n",
       "  <th>debtinc_ln</th>   <td>    0.9496</td> <td>    0.025</td> <td>   38.235</td> <td> 0.000</td> <td>    0.901</td> <td>    0.998</td>\n",
       "</tr>\n",
       "<tr>\n",
       "  <th>default</th>      <td>    0.0121</td> <td>    0.029</td> <td>    0.413</td> <td> 0.680</td> <td>   -0.045</td> <td>    0.070</td>\n",
       "</tr>\n",
       "<tr>\n",
       "  <th>ed</th>           <td>    0.0028</td> <td>    0.003</td> <td>    0.804</td> <td> 0.421</td> <td>   -0.004</td> <td>    0.010</td>\n",
       "</tr>\n",
       "<tr>\n",
       "  <th>gender</th>       <td>   -0.0487</td> <td>    0.022</td> <td>   -2.259</td> <td> 0.024</td> <td>   -0.091</td> <td>   -0.006</td>\n",
       "</tr>\n",
       "<tr>\n",
       "  <th>jobsat</th>       <td>   -0.0118</td> <td>    0.009</td> <td>   -1.332</td> <td> 0.183</td> <td>   -0.029</td> <td>    0.006</td>\n",
       "</tr>\n",
       "<tr>\n",
       "  <th>lncreddebt</th>   <td>   -0.2775</td> <td>    0.013</td> <td>  -21.694</td> <td> 0.000</td> <td>   -0.303</td> <td>   -0.252</td>\n",
       "</tr>\n",
       "<tr>\n",
       "  <th>lninc</th>        <td>    1.3545</td> <td>    0.023</td> <td>   58.422</td> <td> 0.000</td> <td>    1.309</td> <td>    1.400</td>\n",
       "</tr>\n",
       "<tr>\n",
       "  <th>lnothdebt</th>    <td>   -0.6353</td> <td>    0.020</td> <td>  -31.978</td> <td> 0.000</td> <td>   -0.674</td> <td>   -0.596</td>\n",
       "</tr>\n",
       "<tr>\n",
       "  <th>marital</th>      <td>    0.0003</td> <td>    0.022</td> <td>    0.013</td> <td> 0.989</td> <td>   -0.043</td> <td>    0.043</td>\n",
       "</tr>\n",
       "<tr>\n",
       "  <th>polcontrib</th>   <td>    0.0126</td> <td>    0.025</td> <td>    0.497</td> <td> 0.619</td> <td>   -0.037</td> <td>    0.062</td>\n",
       "</tr>\n",
       "<tr>\n",
       "  <th>polparty</th>     <td>   -0.0036</td> <td>    0.022</td> <td>   -0.162</td> <td> 0.871</td> <td>   -0.047</td> <td>    0.040</td>\n",
       "</tr>\n",
       "<tr>\n",
       "  <th>region</th>       <td>    0.0128</td> <td>    0.008</td> <td>    1.536</td> <td> 0.125</td> <td>   -0.004</td> <td>    0.029</td>\n",
       "</tr>\n",
       "<tr>\n",
       "  <th>townsize</th>     <td>    0.0068</td> <td>    0.008</td> <td>    0.815</td> <td> 0.415</td> <td>   -0.010</td> <td>    0.023</td>\n",
       "</tr>\n",
       "</table>\n",
       "<table class=\"simpletable\">\n",
       "<tr>\n",
       "  <th>Omnibus:</th>       <td>70.073</td> <th>  Durbin-Watson:     </th> <td>   1.988</td>\n",
       "</tr>\n",
       "<tr>\n",
       "  <th>Prob(Omnibus):</th> <td> 0.000</td> <th>  Jarque-Bera (JB):  </th> <td>  74.504</td>\n",
       "</tr>\n",
       "<tr>\n",
       "  <th>Skew:</th>          <td>-0.377</td> <th>  Prob(JB):          </th> <td>6.63e-17</td>\n",
       "</tr>\n",
       "<tr>\n",
       "  <th>Kurtosis:</th>      <td> 3.168</td> <th>  Cond. No.          </th> <td>    192.</td>\n",
       "</tr>\n",
       "</table><br/><br/>Warnings:<br/>[1] Standard Errors assume that the covariance matrix of the errors is correctly specified."
      ],
      "text/plain": [
       "<class 'statsmodels.iolib.summary.Summary'>\n",
       "\"\"\"\n",
       "                                 OLS Regression Results                                \n",
       "=======================================================================================\n",
       "Dep. Variable:         total_spent_ln   R-squared (uncentered):                   0.991\n",
       "Model:                            OLS   Adj. R-squared (uncentered):              0.990\n",
       "Method:                 Least Squares   F-statistic:                          1.202e+04\n",
       "Date:                Tue, 10 Sep 2019   Prob (F-statistic):                        0.00\n",
       "Time:                        16:36:57   Log-Likelihood:                         -2646.7\n",
       "No. Observations:                3000   AIC:                                      5345.\n",
       "Df Residuals:                    2974   BIC:                                      5502.\n",
       "Df Model:                          26                                                  \n",
       "Covariance Type:            nonrobust                                                  \n",
       "================================================================================\n",
       "                   coef    std err          t      P>|t|      [0.025      0.975]\n",
       "--------------------------------------------------------------------------------\n",
       "age             -0.0007      0.001     -0.800      0.424      -0.002       0.001\n",
       "carbuy           0.0259      0.022      1.154      0.249      -0.018       0.070\n",
       "card            -0.1565      0.010    -15.921      0.000      -0.176      -0.137\n",
       "card2           -0.0598      0.010     -6.022      0.000      -0.079      -0.040\n",
       "card2benefit     0.0056      0.010      0.584      0.560      -0.013       0.024\n",
       "card2tenure      0.0004      0.002      0.245      0.807      -0.003       0.004\n",
       "card2type        0.0066      0.010      0.690      0.490      -0.012       0.025\n",
       "cardbenefit     -0.0007      0.010     -0.073      0.942      -0.020       0.018\n",
       "cardfee          0.0112      0.027      0.418      0.676      -0.042       0.064\n",
       "cardtype         0.0074      0.010      0.778      0.437      -0.011       0.026\n",
       "carvalue        -0.0023      0.001     -2.607      0.009      -0.004      -0.001\n",
       "churn            0.0247      0.027      0.905      0.366      -0.029       0.078\n",
       "commute         -0.0016      0.004     -0.403      0.687      -0.010       0.006\n",
       "debtinc_ln       0.9496      0.025     38.235      0.000       0.901       0.998\n",
       "default          0.0121      0.029      0.413      0.680      -0.045       0.070\n",
       "ed               0.0028      0.003      0.804      0.421      -0.004       0.010\n",
       "gender          -0.0487      0.022     -2.259      0.024      -0.091      -0.006\n",
       "jobsat          -0.0118      0.009     -1.332      0.183      -0.029       0.006\n",
       "lncreddebt      -0.2775      0.013    -21.694      0.000      -0.303      -0.252\n",
       "lninc            1.3545      0.023     58.422      0.000       1.309       1.400\n",
       "lnothdebt       -0.6353      0.020    -31.978      0.000      -0.674      -0.596\n",
       "marital          0.0003      0.022      0.013      0.989      -0.043       0.043\n",
       "polcontrib       0.0126      0.025      0.497      0.619      -0.037       0.062\n",
       "polparty        -0.0036      0.022     -0.162      0.871      -0.047       0.040\n",
       "region           0.0128      0.008      1.536      0.125      -0.004       0.029\n",
       "townsize         0.0068      0.008      0.815      0.415      -0.010       0.023\n",
       "==============================================================================\n",
       "Omnibus:                       70.073   Durbin-Watson:                   1.988\n",
       "Prob(Omnibus):                  0.000   Jarque-Bera (JB):               74.504\n",
       "Skew:                          -0.377   Prob(JB):                     6.63e-17\n",
       "Kurtosis:                       3.168   Cond. No.                         192.\n",
       "==============================================================================\n",
       "\n",
       "Warnings:\n",
       "[1] Standard Errors assume that the covariance matrix of the errors is correctly specified.\n",
       "\"\"\""
      ]
     },
     "execution_count": 48,
     "metadata": {},
     "output_type": "execute_result"
    }
   ],
   "source": [
    "lm=sm.OLS(y_train,X_train).fit()\n",
    "lm.summary()"
   ]
  },
  {
   "cell_type": "markdown",
   "metadata": {},
   "source": [
    "# XGBoost regression"
   ]
  },
  {
   "cell_type": "code",
   "execution_count": 49,
   "metadata": {},
   "outputs": [],
   "source": [
    "xgb = xgboost.XGBRegressor(n_estimators=100, learning_rate=0.08,num_boost_round=10, gamma=0, subsample=0.75,\n",
    "                           colsample_bytree=0.4, max_depth=7)"
   ]
  },
  {
   "cell_type": "code",
   "execution_count": 50,
   "metadata": {},
   "outputs": [
    {
     "name": "stdout",
     "output_type": "stream",
     "text": [
      "[16:36:58] WARNING: C:/Jenkins/workspace/xgboost-win64_release_0.90/src/objective/regression_obj.cu:152: reg:linear is now deprecated in favor of reg:squarederror.\n"
     ]
    },
    {
     "data": {
      "text/plain": [
       "XGBRegressor(base_score=0.5, booster='gbtree', colsample_bylevel=1,\n",
       "             colsample_bynode=1, colsample_bytree=0.4, gamma=0,\n",
       "             importance_type='gain', learning_rate=0.08, max_delta_step=0,\n",
       "             max_depth=7, min_child_weight=1, missing=None, n_estimators=100,\n",
       "             n_jobs=1, nthread=None, num_boost_round=10, objective='reg:linear',\n",
       "             random_state=0, reg_alpha=0, reg_lambda=1, scale_pos_weight=1,\n",
       "             seed=None, silent=None, subsample=0.75, verbosity=1)"
      ]
     },
     "execution_count": 50,
     "metadata": {},
     "output_type": "execute_result"
    }
   ],
   "source": [
    "xgb.fit(X_train,y_train)"
   ]
  },
  {
   "cell_type": "code",
   "execution_count": 51,
   "metadata": {},
   "outputs": [
    {
     "name": "stdout",
     "output_type": "stream",
     "text": [
      "[5.679632  6.0446944 5.6996503 ... 5.800756  6.447462  4.772256 ]\n"
     ]
    }
   ],
   "source": [
    "y_pred= print(xgb.predict(X_test))"
   ]
  },
  {
   "cell_type": "code",
   "execution_count": 52,
   "metadata": {},
   "outputs": [
    {
     "data": {
      "text/plain": [
       "0.7477724781984575"
      ]
     },
     "execution_count": 52,
     "metadata": {},
     "output_type": "execute_result"
    }
   ],
   "source": [
    "xgb.score(X_train,y_train)"
   ]
  },
  {
   "cell_type": "code",
   "execution_count": 53,
   "metadata": {},
   "outputs": [
    {
     "data": {
      "text/plain": [
       "0.24617445226109558"
      ]
     },
     "execution_count": 53,
     "metadata": {},
     "output_type": "execute_result"
    }
   ],
   "source": [
    "xgb.score(X_test,y_test)"
   ]
  },
  {
   "cell_type": "code",
   "execution_count": 54,
   "metadata": {},
   "outputs": [],
   "source": [
    "paramGrid = {\"max_depth\":[5,10],\"colsample_bytree\":[0.3, 0.4]}  \n",
    "gridsearch = GridSearchCV(xgb, paramGrid, cv=2, verbose=2, n_jobs=-1)"
   ]
  },
  {
   "cell_type": "code",
   "execution_count": 55,
   "metadata": {},
   "outputs": [],
   "source": [
    "#model= gridsearch.fit(X_train,y_train)"
   ]
  },
  {
   "cell_type": "markdown",
   "metadata": {},
   "source": [
    "# Decison Tree"
   ]
  },
  {
   "cell_type": "code",
   "execution_count": 56,
   "metadata": {},
   "outputs": [
    {
     "data": {
      "text/plain": [
       "DecisionTreeRegressor(criterion='mse', max_depth=7, max_features=None,\n",
       "                      max_leaf_nodes=None, min_impurity_decrease=0.0,\n",
       "                      min_impurity_split=None, min_samples_leaf=1,\n",
       "                      min_samples_split=2, min_weight_fraction_leaf=0.0,\n",
       "                      presort=False, random_state=None, splitter='best')"
      ]
     },
     "execution_count": 56,
     "metadata": {},
     "output_type": "execute_result"
    }
   ],
   "source": [
    "dtr= DecisionTreeRegressor(criterion='mse',max_depth=7)\n",
    "dtr.fit(X_train,y_train)"
   ]
  },
  {
   "cell_type": "code",
   "execution_count": 57,
   "metadata": {},
   "outputs": [
    {
     "data": {
      "text/plain": [
       "0.4368700352272809"
      ]
     },
     "execution_count": 57,
     "metadata": {},
     "output_type": "execute_result"
    }
   ],
   "source": [
    "dtr.score(X_train,y_train)"
   ]
  },
  {
   "cell_type": "code",
   "execution_count": 58,
   "metadata": {},
   "outputs": [
    {
     "data": {
      "text/plain": [
       "0.1526745626769357"
      ]
     },
     "execution_count": 58,
     "metadata": {},
     "output_type": "execute_result"
    }
   ],
   "source": [
    "dtr.score(X_test,y_test)"
   ]
  },
  {
   "cell_type": "markdown",
   "metadata": {},
   "source": [
    "# Due to less features in the model it is showing less accuracy so i thought of adding maximum features and then check the accuracy."
   ]
  },
  {
   "cell_type": "code",
   "execution_count": 59,
   "metadata": {},
   "outputs": [
    {
     "data": {
      "text/plain": [
       "0"
      ]
     },
     "execution_count": 59,
     "metadata": {},
     "output_type": "execute_result"
    }
   ],
   "source": [
    "credit_spend['debtinc_ln']= np.log(credit_spend['debtinc'])\n",
    "credit_spend.drop('debtinc',axis=1,inplace= True)\n",
    "gc.collect()"
   ]
  },
  {
   "cell_type": "code",
   "execution_count": 60,
   "metadata": {},
   "outputs": [],
   "source": [
    "feat_col= credit_spend.columns.difference(['total_spent_ln'])"
   ]
  },
  {
   "cell_type": "code",
   "execution_count": 61,
   "metadata": {},
   "outputs": [
    {
     "data": {
      "text/plain": [
       "Index(['active', 'address', 'age', 'callcard', 'callid', 'callwait',\n",
       "       'carbought', 'carbuy', 'carcatvalue', 'card', 'card2', 'card2benefit',\n",
       "       'card2fee', 'card2tenure', 'card2type', 'cardbenefit', 'cardfee',\n",
       "       'cardmon', 'cardten', 'cardtype', 'carown', 'cars', 'cartype',\n",
       "       'carvalue', 'churn', 'commute', 'commutebike', 'commutebus',\n",
       "       'commutecar', 'commutecarpool', 'commutemotorcycle', 'commutenonmotor',\n",
       "       'commutepublic', 'commuterail', 'commutetime', 'commutewalk', 'confer',\n",
       "       'debtinc_ln', 'default', 'ebill', 'ed', 'empcat', 'employ', 'equip',\n",
       "       'forward', 'gender', 'homeown', 'hometype', 'inccat', 'jobcat',\n",
       "       'jobsat', 'lncreddebt', 'lninc', 'lnlongmon', 'lnlongten', 'lnothdebt',\n",
       "       'marital', 'multline', 'news', 'owncd', 'owndvd', 'ownfax', 'owngame',\n",
       "       'ownipod', 'ownpc', 'ownpda', 'owntv', 'ownvcr', 'pager', 'polcontrib',\n",
       "       'polparty', 'polview', 'reason', 'region', 'reside', 'response_01',\n",
       "       'response_02', 'response_03', 'retire', 'telecommute', 'tenure',\n",
       "       'tollfree', 'townsize', 'union', 'voice', 'vote', 'wireless'],\n",
       "      dtype='object')"
      ]
     },
     "execution_count": 61,
     "metadata": {},
     "output_type": "execute_result"
    }
   ],
   "source": [
    "feat_col"
   ]
  },
  {
   "cell_type": "code",
   "execution_count": 62,
   "metadata": {},
   "outputs": [],
   "source": [
    "X_train, X_test, y_train, y_test= train_test_split(credit_spend[feat_col],credit_spend['total_spent_ln'], test_size=0.3,random_state=125)"
   ]
  },
  {
   "cell_type": "code",
   "execution_count": 63,
   "metadata": {},
   "outputs": [
    {
     "data": {
      "text/plain": [
       "LinearRegression(copy_X=True, fit_intercept=True, n_jobs=None, normalize=False)"
      ]
     },
     "execution_count": 63,
     "metadata": {},
     "output_type": "execute_result"
    }
   ],
   "source": [
    "Reg= LinearRegression()\n",
    "Reg.fit(X_train,y_train)"
   ]
  },
  {
   "cell_type": "code",
   "execution_count": 64,
   "metadata": {},
   "outputs": [
    {
     "data": {
      "text/plain": [
       "0.26426555895649984"
      ]
     },
     "execution_count": 64,
     "metadata": {},
     "output_type": "execute_result"
    }
   ],
   "source": [
    "Reg.score(X_train,y_train)"
   ]
  },
  {
   "cell_type": "code",
   "execution_count": 65,
   "metadata": {},
   "outputs": [
    {
     "data": {
      "text/plain": [
       "0.2482610359641344"
      ]
     },
     "execution_count": 65,
     "metadata": {},
     "output_type": "execute_result"
    }
   ],
   "source": [
    "Reg.score(X_test,y_test)"
   ]
  },
  {
   "cell_type": "code",
   "execution_count": 66,
   "metadata": {},
   "outputs": [
    {
     "data": {
      "text/html": [
       "<table class=\"simpletable\">\n",
       "<caption>OLS Regression Results</caption>\n",
       "<tr>\n",
       "  <th>Dep. Variable:</th>     <td>total_spent_ln</td>  <th>  R-squared (uncentered):</th>      <td>   0.991</td>\n",
       "</tr>\n",
       "<tr>\n",
       "  <th>Model:</th>                   <td>OLS</td>       <th>  Adj. R-squared (uncentered):</th> <td>   0.991</td>\n",
       "</tr>\n",
       "<tr>\n",
       "  <th>Method:</th>             <td>Least Squares</td>  <th>  F-statistic:       </th>          <td>   4318.</td>\n",
       "</tr>\n",
       "<tr>\n",
       "  <th>Date:</th>             <td>Tue, 10 Sep 2019</td> <th>  Prob (F-statistic):</th>           <td>  0.00</td> \n",
       "</tr>\n",
       "<tr>\n",
       "  <th>Time:</th>                 <td>16:37:00</td>     <th>  Log-Likelihood:    </th>          <td> -3016.2</td>\n",
       "</tr>\n",
       "<tr>\n",
       "  <th>No. Observations:</th>      <td>  3500</td>      <th>  AIC:               </th>          <td>   6206.</td>\n",
       "</tr>\n",
       "<tr>\n",
       "  <th>Df Residuals:</th>          <td>  3413</td>      <th>  BIC:               </th>          <td>   6742.</td>\n",
       "</tr>\n",
       "<tr>\n",
       "  <th>Df Model:</th>              <td>    87</td>      <th>                     </th>              <td> </td>   \n",
       "</tr>\n",
       "<tr>\n",
       "  <th>Covariance Type:</th>      <td>nonrobust</td>    <th>                     </th>              <td> </td>   \n",
       "</tr>\n",
       "</table>\n",
       "<table class=\"simpletable\">\n",
       "<tr>\n",
       "          <td></td>             <th>coef</th>     <th>std err</th>      <th>t</th>      <th>P>|t|</th>  <th>[0.025</th>    <th>0.975]</th>  \n",
       "</tr>\n",
       "<tr>\n",
       "  <th>active</th>            <td>    0.0289</td> <td>    0.020</td> <td>    1.410</td> <td> 0.159</td> <td>   -0.011</td> <td>    0.069</td>\n",
       "</tr>\n",
       "<tr>\n",
       "  <th>address</th>           <td>    0.0012</td> <td>    0.002</td> <td>    0.782</td> <td> 0.435</td> <td>   -0.002</td> <td>    0.004</td>\n",
       "</tr>\n",
       "<tr>\n",
       "  <th>age</th>               <td>   -0.0012</td> <td>    0.001</td> <td>   -0.866</td> <td> 0.387</td> <td>   -0.004</td> <td>    0.002</td>\n",
       "</tr>\n",
       "<tr>\n",
       "  <th>callcard</th>          <td>    0.0230</td> <td>    0.036</td> <td>    0.639</td> <td> 0.523</td> <td>   -0.048</td> <td>    0.094</td>\n",
       "</tr>\n",
       "<tr>\n",
       "  <th>callid</th>            <td>    0.0276</td> <td>    0.030</td> <td>    0.929</td> <td> 0.353</td> <td>   -0.031</td> <td>    0.086</td>\n",
       "</tr>\n",
       "<tr>\n",
       "  <th>callwait</th>          <td>   -0.0121</td> <td>    0.029</td> <td>   -0.413</td> <td> 0.680</td> <td>   -0.070</td> <td>    0.045</td>\n",
       "</tr>\n",
       "<tr>\n",
       "  <th>carbought</th>         <td>   -0.0033</td> <td>    0.022</td> <td>   -0.151</td> <td> 0.880</td> <td>   -0.047</td> <td>    0.040</td>\n",
       "</tr>\n",
       "<tr>\n",
       "  <th>carbuy</th>            <td>    0.0091</td> <td>    0.021</td> <td>    0.425</td> <td> 0.671</td> <td>   -0.033</td> <td>    0.051</td>\n",
       "</tr>\n",
       "<tr>\n",
       "  <th>carcatvalue</th>       <td>   -0.0103</td> <td>    0.025</td> <td>   -0.410</td> <td> 0.682</td> <td>   -0.060</td> <td>    0.039</td>\n",
       "</tr>\n",
       "<tr>\n",
       "  <th>card</th>              <td>   -0.1566</td> <td>    0.009</td> <td>  -17.391</td> <td> 0.000</td> <td>   -0.174</td> <td>   -0.139</td>\n",
       "</tr>\n",
       "<tr>\n",
       "  <th>card2</th>             <td>   -0.0765</td> <td>    0.009</td> <td>   -8.295</td> <td> 0.000</td> <td>   -0.095</td> <td>   -0.058</td>\n",
       "</tr>\n",
       "<tr>\n",
       "  <th>card2benefit</th>      <td>    0.0119</td> <td>    0.009</td> <td>    1.342</td> <td> 0.180</td> <td>   -0.005</td> <td>    0.029</td>\n",
       "</tr>\n",
       "<tr>\n",
       "  <th>card2fee</th>          <td>   -0.0017</td> <td>    0.026</td> <td>   -0.066</td> <td> 0.947</td> <td>   -0.052</td> <td>    0.049</td>\n",
       "</tr>\n",
       "<tr>\n",
       "  <th>card2tenure</th>       <td>   -0.0047</td> <td>    0.004</td> <td>   -1.315</td> <td> 0.189</td> <td>   -0.012</td> <td>    0.002</td>\n",
       "</tr>\n",
       "<tr>\n",
       "  <th>card2type</th>         <td>    0.0066</td> <td>    0.009</td> <td>    0.746</td> <td> 0.456</td> <td>   -0.011</td> <td>    0.024</td>\n",
       "</tr>\n",
       "<tr>\n",
       "  <th>cardbenefit</th>       <td>    0.0027</td> <td>    0.009</td> <td>    0.303</td> <td> 0.762</td> <td>   -0.015</td> <td>    0.020</td>\n",
       "</tr>\n",
       "<tr>\n",
       "  <th>cardfee</th>           <td>   -0.0276</td> <td>    0.026</td> <td>   -1.078</td> <td> 0.281</td> <td>   -0.078</td> <td>    0.023</td>\n",
       "</tr>\n",
       "<tr>\n",
       "  <th>cardmon</th>           <td>   -0.0039</td> <td>    0.002</td> <td>   -1.910</td> <td> 0.056</td> <td>   -0.008</td> <td>    0.000</td>\n",
       "</tr>\n",
       "<tr>\n",
       "  <th>cardten</th>           <td> 6.871e-05</td> <td> 3.83e-05</td> <td>    1.796</td> <td> 0.073</td> <td>-6.31e-06</td> <td>    0.000</td>\n",
       "</tr>\n",
       "<tr>\n",
       "  <th>cardtype</th>          <td>    0.0062</td> <td>    0.009</td> <td>    0.690</td> <td> 0.490</td> <td>   -0.011</td> <td>    0.024</td>\n",
       "</tr>\n",
       "<tr>\n",
       "  <th>carown</th>            <td>    0.0015</td> <td>    0.026</td> <td>    0.055</td> <td> 0.956</td> <td>   -0.050</td> <td>    0.053</td>\n",
       "</tr>\n",
       "<tr>\n",
       "  <th>cars</th>              <td>    0.0145</td> <td>    0.011</td> <td>    1.308</td> <td> 0.191</td> <td>   -0.007</td> <td>    0.036</td>\n",
       "</tr>\n",
       "<tr>\n",
       "  <th>cartype</th>           <td>    0.0037</td> <td>    0.020</td> <td>    0.186</td> <td> 0.853</td> <td>   -0.036</td> <td>    0.043</td>\n",
       "</tr>\n",
       "<tr>\n",
       "  <th>carvalue</th>          <td>   -0.0026</td> <td>    0.001</td> <td>   -1.986</td> <td> 0.047</td> <td>   -0.005</td> <td>-3.35e-05</td>\n",
       "</tr>\n",
       "<tr>\n",
       "  <th>churn</th>             <td>    0.0256</td> <td>    0.026</td> <td>    0.980</td> <td> 0.327</td> <td>   -0.026</td> <td>    0.077</td>\n",
       "</tr>\n",
       "<tr>\n",
       "  <th>commute</th>           <td>    0.0086</td> <td>    0.005</td> <td>    1.579</td> <td> 0.114</td> <td>   -0.002</td> <td>    0.019</td>\n",
       "</tr>\n",
       "<tr>\n",
       "  <th>commutebike</th>       <td>   -0.0527</td> <td>    0.031</td> <td>   -1.705</td> <td> 0.088</td> <td>   -0.113</td> <td>    0.008</td>\n",
       "</tr>\n",
       "<tr>\n",
       "  <th>commutebus</th>        <td>   -0.0043</td> <td>    0.021</td> <td>   -0.209</td> <td> 0.834</td> <td>   -0.045</td> <td>    0.036</td>\n",
       "</tr>\n",
       "<tr>\n",
       "  <th>commutecar</th>        <td>    0.0696</td> <td>    0.033</td> <td>    2.134</td> <td> 0.033</td> <td>    0.006</td> <td>    0.133</td>\n",
       "</tr>\n",
       "<tr>\n",
       "  <th>commutecarpool</th>    <td>    0.0442</td> <td>    0.022</td> <td>    1.982</td> <td> 0.048</td> <td>    0.000</td> <td>    0.088</td>\n",
       "</tr>\n",
       "<tr>\n",
       "  <th>commutemotorcycle</th> <td>    0.0089</td> <td>    0.032</td> <td>    0.276</td> <td> 0.783</td> <td>   -0.054</td> <td>    0.072</td>\n",
       "</tr>\n",
       "<tr>\n",
       "  <th>commutenonmotor</th>   <td>   -0.0904</td> <td>    0.044</td> <td>   -2.047</td> <td> 0.041</td> <td>   -0.177</td> <td>   -0.004</td>\n",
       "</tr>\n",
       "<tr>\n",
       "  <th>commutepublic</th>     <td>   -0.0122</td> <td>    0.034</td> <td>   -0.364</td> <td> 0.716</td> <td>   -0.078</td> <td>    0.054</td>\n",
       "</tr>\n",
       "<tr>\n",
       "  <th>commuterail</th>       <td>   -0.0242</td> <td>    0.023</td> <td>   -1.072</td> <td> 0.284</td> <td>   -0.068</td> <td>    0.020</td>\n",
       "</tr>\n",
       "<tr>\n",
       "  <th>commutetime</th>       <td>    0.0034</td> <td>    0.002</td> <td>    1.744</td> <td> 0.081</td> <td>   -0.000</td> <td>    0.007</td>\n",
       "</tr>\n",
       "<tr>\n",
       "  <th>commutewalk</th>       <td>    0.0071</td> <td>    0.022</td> <td>    0.325</td> <td> 0.745</td> <td>   -0.036</td> <td>    0.050</td>\n",
       "</tr>\n",
       "<tr>\n",
       "  <th>confer</th>            <td>   -0.0488</td> <td>    0.030</td> <td>   -1.629</td> <td> 0.103</td> <td>   -0.107</td> <td>    0.010</td>\n",
       "</tr>\n",
       "<tr>\n",
       "  <th>debtinc_ln</th>        <td>    0.8150</td> <td>    0.035</td> <td>   23.400</td> <td> 0.000</td> <td>    0.747</td> <td>    0.883</td>\n",
       "</tr>\n",
       "<tr>\n",
       "  <th>default</th>           <td>   -0.0046</td> <td>    0.027</td> <td>   -0.169</td> <td> 0.866</td> <td>   -0.059</td> <td>    0.049</td>\n",
       "</tr>\n",
       "<tr>\n",
       "  <th>ebill</th>             <td>   -0.0282</td> <td>    0.028</td> <td>   -1.019</td> <td> 0.308</td> <td>   -0.082</td> <td>    0.026</td>\n",
       "</tr>\n",
       "<tr>\n",
       "  <th>ed</th>                <td>   -0.0014</td> <td>    0.004</td> <td>   -0.340</td> <td> 0.734</td> <td>   -0.009</td> <td>    0.006</td>\n",
       "</tr>\n",
       "<tr>\n",
       "  <th>empcat</th>            <td>    0.0076</td> <td>    0.018</td> <td>    0.418</td> <td> 0.676</td> <td>   -0.028</td> <td>    0.043</td>\n",
       "</tr>\n",
       "<tr>\n",
       "  <th>employ</th>            <td>   -0.0014</td> <td>    0.003</td> <td>   -0.485</td> <td> 0.627</td> <td>   -0.007</td> <td>    0.004</td>\n",
       "</tr>\n",
       "<tr>\n",
       "  <th>equip</th>             <td>    0.0212</td> <td>    0.029</td> <td>    0.738</td> <td> 0.460</td> <td>   -0.035</td> <td>    0.078</td>\n",
       "</tr>\n",
       "<tr>\n",
       "  <th>forward</th>           <td>    0.0482</td> <td>    0.029</td> <td>    1.633</td> <td> 0.103</td> <td>   -0.010</td> <td>    0.106</td>\n",
       "</tr>\n",
       "<tr>\n",
       "  <th>gender</th>            <td>   -0.0876</td> <td>    0.020</td> <td>   -4.380</td> <td> 0.000</td> <td>   -0.127</td> <td>   -0.048</td>\n",
       "</tr>\n",
       "<tr>\n",
       "  <th>homeown</th>           <td>    0.0006</td> <td>    0.022</td> <td>    0.026</td> <td> 0.979</td> <td>   -0.042</td> <td>    0.043</td>\n",
       "</tr>\n",
       "<tr>\n",
       "  <th>hometype</th>          <td>    0.0295</td> <td>    0.011</td> <td>    2.693</td> <td> 0.007</td> <td>    0.008</td> <td>    0.051</td>\n",
       "</tr>\n",
       "<tr>\n",
       "  <th>inccat</th>            <td>   -0.0819</td> <td>    0.029</td> <td>   -2.789</td> <td> 0.005</td> <td>   -0.139</td> <td>   -0.024</td>\n",
       "</tr>\n",
       "<tr>\n",
       "  <th>jobcat</th>            <td>   -0.0145</td> <td>    0.007</td> <td>   -2.047</td> <td> 0.041</td> <td>   -0.028</td> <td>   -0.001</td>\n",
       "</tr>\n",
       "<tr>\n",
       "  <th>jobsat</th>            <td>   -0.0105</td> <td>    0.008</td> <td>   -1.233</td> <td> 0.218</td> <td>   -0.027</td> <td>    0.006</td>\n",
       "</tr>\n",
       "<tr>\n",
       "  <th>lncreddebt</th>        <td>   -0.2422</td> <td>    0.015</td> <td>  -16.705</td> <td> 0.000</td> <td>   -0.271</td> <td>   -0.214</td>\n",
       "</tr>\n",
       "<tr>\n",
       "  <th>lninc</th>             <td>    1.4043</td> <td>    0.046</td> <td>   30.851</td> <td> 0.000</td> <td>    1.315</td> <td>    1.494</td>\n",
       "</tr>\n",
       "<tr>\n",
       "  <th>lnlongmon</th>         <td>   -0.0154</td> <td>    0.038</td> <td>   -0.402</td> <td> 0.688</td> <td>   -0.090</td> <td>    0.060</td>\n",
       "</tr>\n",
       "<tr>\n",
       "  <th>lnlongten</th>         <td>    0.0451</td> <td>    0.027</td> <td>    1.689</td> <td> 0.091</td> <td>   -0.007</td> <td>    0.097</td>\n",
       "</tr>\n",
       "<tr>\n",
       "  <th>lnothdebt</th>         <td>   -0.5608</td> <td>    0.026</td> <td>  -21.946</td> <td> 0.000</td> <td>   -0.611</td> <td>   -0.511</td>\n",
       "</tr>\n",
       "<tr>\n",
       "  <th>marital</th>           <td>   -0.0340</td> <td>    0.027</td> <td>   -1.264</td> <td> 0.206</td> <td>   -0.087</td> <td>    0.019</td>\n",
       "</tr>\n",
       "<tr>\n",
       "  <th>multline</th>          <td>   -0.0192</td> <td>    0.026</td> <td>   -0.752</td> <td> 0.452</td> <td>   -0.069</td> <td>    0.031</td>\n",
       "</tr>\n",
       "<tr>\n",
       "  <th>news</th>              <td>   -0.0029</td> <td>    0.025</td> <td>   -0.117</td> <td> 0.907</td> <td>   -0.052</td> <td>    0.046</td>\n",
       "</tr>\n",
       "<tr>\n",
       "  <th>owncd</th>             <td>   -0.0273</td> <td>    0.049</td> <td>   -0.560</td> <td> 0.576</td> <td>   -0.123</td> <td>    0.068</td>\n",
       "</tr>\n",
       "<tr>\n",
       "  <th>owndvd</th>            <td>   -0.0064</td> <td>    0.045</td> <td>   -0.144</td> <td> 0.886</td> <td>   -0.094</td> <td>    0.081</td>\n",
       "</tr>\n",
       "<tr>\n",
       "  <th>ownfax</th>            <td>   -0.0234</td> <td>    0.033</td> <td>   -0.718</td> <td> 0.473</td> <td>   -0.087</td> <td>    0.041</td>\n",
       "</tr>\n",
       "<tr>\n",
       "  <th>owngame</th>           <td>    0.0108</td> <td>    0.024</td> <td>    0.446</td> <td> 0.656</td> <td>   -0.037</td> <td>    0.058</td>\n",
       "</tr>\n",
       "<tr>\n",
       "  <th>ownipod</th>           <td>    0.0046</td> <td>    0.024</td> <td>    0.193</td> <td> 0.847</td> <td>   -0.042</td> <td>    0.051</td>\n",
       "</tr>\n",
       "<tr>\n",
       "  <th>ownpc</th>             <td>    0.0156</td> <td>    0.026</td> <td>    0.609</td> <td> 0.543</td> <td>   -0.035</td> <td>    0.066</td>\n",
       "</tr>\n",
       "<tr>\n",
       "  <th>ownpda</th>            <td>    0.0132</td> <td>    0.032</td> <td>    0.415</td> <td> 0.678</td> <td>   -0.049</td> <td>    0.075</td>\n",
       "</tr>\n",
       "<tr>\n",
       "  <th>owntv</th>             <td>    0.1209</td> <td>    0.089</td> <td>    1.364</td> <td> 0.173</td> <td>   -0.053</td> <td>    0.295</td>\n",
       "</tr>\n",
       "<tr>\n",
       "  <th>ownvcr</th>            <td>   -0.0335</td> <td>    0.045</td> <td>   -0.741</td> <td> 0.458</td> <td>   -0.122</td> <td>    0.055</td>\n",
       "</tr>\n",
       "<tr>\n",
       "  <th>pager</th>             <td>   -0.0082</td> <td>    0.034</td> <td>   -0.240</td> <td> 0.811</td> <td>   -0.075</td> <td>    0.059</td>\n",
       "</tr>\n",
       "<tr>\n",
       "  <th>polcontrib</th>        <td>    0.0295</td> <td>    0.023</td> <td>    1.272</td> <td> 0.204</td> <td>   -0.016</td> <td>    0.075</td>\n",
       "</tr>\n",
       "<tr>\n",
       "  <th>polparty</th>          <td>    0.0067</td> <td>    0.021</td> <td>    0.323</td> <td> 0.747</td> <td>   -0.034</td> <td>    0.047</td>\n",
       "</tr>\n",
       "<tr>\n",
       "  <th>polview</th>           <td>   -0.0016</td> <td>    0.007</td> <td>   -0.215</td> <td> 0.830</td> <td>   -0.016</td> <td>    0.013</td>\n",
       "</tr>\n",
       "<tr>\n",
       "  <th>reason</th>            <td>    0.0002</td> <td>    0.003</td> <td>    0.071</td> <td> 0.943</td> <td>   -0.007</td> <td>    0.007</td>\n",
       "</tr>\n",
       "<tr>\n",
       "  <th>region</th>            <td>    0.0155</td> <td>    0.008</td> <td>    2.030</td> <td> 0.042</td> <td>    0.001</td> <td>    0.031</td>\n",
       "</tr>\n",
       "<tr>\n",
       "  <th>reside</th>            <td>    0.0113</td> <td>    0.010</td> <td>    1.118</td> <td> 0.264</td> <td>   -0.008</td> <td>    0.031</td>\n",
       "</tr>\n",
       "<tr>\n",
       "  <th>response_01</th>       <td>   -0.0087</td> <td>    0.037</td> <td>   -0.234</td> <td> 0.815</td> <td>   -0.081</td> <td>    0.064</td>\n",
       "</tr>\n",
       "<tr>\n",
       "  <th>response_02</th>       <td>   -0.0073</td> <td>    0.029</td> <td>   -0.248</td> <td> 0.804</td> <td>   -0.065</td> <td>    0.050</td>\n",
       "</tr>\n",
       "<tr>\n",
       "  <th>response_03</th>       <td>    0.0485</td> <td>    0.032</td> <td>    1.492</td> <td> 0.136</td> <td>   -0.015</td> <td>    0.112</td>\n",
       "</tr>\n",
       "<tr>\n",
       "  <th>retire</th>            <td>    0.0940</td> <td>    0.051</td> <td>    1.837</td> <td> 0.066</td> <td>   -0.006</td> <td>    0.194</td>\n",
       "</tr>\n",
       "<tr>\n",
       "  <th>telecommute</th>       <td>   -0.0204</td> <td>    0.026</td> <td>   -0.792</td> <td> 0.428</td> <td>   -0.071</td> <td>    0.030</td>\n",
       "</tr>\n",
       "<tr>\n",
       "  <th>tenure</th>            <td>   -0.0016</td> <td>    0.002</td> <td>   -0.812</td> <td> 0.417</td> <td>   -0.005</td> <td>    0.002</td>\n",
       "</tr>\n",
       "<tr>\n",
       "  <th>tollfree</th>          <td>   -0.0141</td> <td>    0.030</td> <td>   -0.473</td> <td> 0.636</td> <td>   -0.073</td> <td>    0.044</td>\n",
       "</tr>\n",
       "<tr>\n",
       "  <th>townsize</th>          <td>    0.0021</td> <td>    0.009</td> <td>    0.227</td> <td> 0.820</td> <td>   -0.016</td> <td>    0.020</td>\n",
       "</tr>\n",
       "<tr>\n",
       "  <th>union</th>             <td>    0.0237</td> <td>    0.028</td> <td>    0.856</td> <td> 0.392</td> <td>   -0.031</td> <td>    0.078</td>\n",
       "</tr>\n",
       "<tr>\n",
       "  <th>voice</th>             <td>   -0.0473</td> <td>    0.031</td> <td>   -1.510</td> <td> 0.131</td> <td>   -0.109</td> <td>    0.014</td>\n",
       "</tr>\n",
       "<tr>\n",
       "  <th>vote</th>              <td>   -0.0051</td> <td>    0.020</td> <td>   -0.252</td> <td> 0.801</td> <td>   -0.045</td> <td>    0.035</td>\n",
       "</tr>\n",
       "<tr>\n",
       "  <th>wireless</th>          <td>    0.0112</td> <td>    0.035</td> <td>    0.325</td> <td> 0.746</td> <td>   -0.057</td> <td>    0.079</td>\n",
       "</tr>\n",
       "</table>\n",
       "<table class=\"simpletable\">\n",
       "<tr>\n",
       "  <th>Omnibus:</th>       <td>78.687</td> <th>  Durbin-Watson:     </th> <td>   2.025</td>\n",
       "</tr>\n",
       "<tr>\n",
       "  <th>Prob(Omnibus):</th> <td> 0.000</td> <th>  Jarque-Bera (JB):  </th> <td>  83.734</td>\n",
       "</tr>\n",
       "<tr>\n",
       "  <th>Skew:</th>          <td>-0.366</td> <th>  Prob(JB):          </th> <td>6.57e-19</td>\n",
       "</tr>\n",
       "<tr>\n",
       "  <th>Kurtosis:</th>      <td> 3.199</td> <th>  Cond. No.          </th> <td>1.04e+04</td>\n",
       "</tr>\n",
       "</table><br/><br/>Warnings:<br/>[1] Standard Errors assume that the covariance matrix of the errors is correctly specified.<br/>[2] The condition number is large, 1.04e+04. This might indicate that there are<br/>strong multicollinearity or other numerical problems."
      ],
      "text/plain": [
       "<class 'statsmodels.iolib.summary.Summary'>\n",
       "\"\"\"\n",
       "                                 OLS Regression Results                                \n",
       "=======================================================================================\n",
       "Dep. Variable:         total_spent_ln   R-squared (uncentered):                   0.991\n",
       "Model:                            OLS   Adj. R-squared (uncentered):              0.991\n",
       "Method:                 Least Squares   F-statistic:                              4318.\n",
       "Date:                Tue, 10 Sep 2019   Prob (F-statistic):                        0.00\n",
       "Time:                        16:37:00   Log-Likelihood:                         -3016.2\n",
       "No. Observations:                3500   AIC:                                      6206.\n",
       "Df Residuals:                    3413   BIC:                                      6742.\n",
       "Df Model:                          87                                                  \n",
       "Covariance Type:            nonrobust                                                  \n",
       "=====================================================================================\n",
       "                        coef    std err          t      P>|t|      [0.025      0.975]\n",
       "-------------------------------------------------------------------------------------\n",
       "active                0.0289      0.020      1.410      0.159      -0.011       0.069\n",
       "address               0.0012      0.002      0.782      0.435      -0.002       0.004\n",
       "age                  -0.0012      0.001     -0.866      0.387      -0.004       0.002\n",
       "callcard              0.0230      0.036      0.639      0.523      -0.048       0.094\n",
       "callid                0.0276      0.030      0.929      0.353      -0.031       0.086\n",
       "callwait             -0.0121      0.029     -0.413      0.680      -0.070       0.045\n",
       "carbought            -0.0033      0.022     -0.151      0.880      -0.047       0.040\n",
       "carbuy                0.0091      0.021      0.425      0.671      -0.033       0.051\n",
       "carcatvalue          -0.0103      0.025     -0.410      0.682      -0.060       0.039\n",
       "card                 -0.1566      0.009    -17.391      0.000      -0.174      -0.139\n",
       "card2                -0.0765      0.009     -8.295      0.000      -0.095      -0.058\n",
       "card2benefit          0.0119      0.009      1.342      0.180      -0.005       0.029\n",
       "card2fee             -0.0017      0.026     -0.066      0.947      -0.052       0.049\n",
       "card2tenure          -0.0047      0.004     -1.315      0.189      -0.012       0.002\n",
       "card2type             0.0066      0.009      0.746      0.456      -0.011       0.024\n",
       "cardbenefit           0.0027      0.009      0.303      0.762      -0.015       0.020\n",
       "cardfee              -0.0276      0.026     -1.078      0.281      -0.078       0.023\n",
       "cardmon              -0.0039      0.002     -1.910      0.056      -0.008       0.000\n",
       "cardten            6.871e-05   3.83e-05      1.796      0.073   -6.31e-06       0.000\n",
       "cardtype              0.0062      0.009      0.690      0.490      -0.011       0.024\n",
       "carown                0.0015      0.026      0.055      0.956      -0.050       0.053\n",
       "cars                  0.0145      0.011      1.308      0.191      -0.007       0.036\n",
       "cartype               0.0037      0.020      0.186      0.853      -0.036       0.043\n",
       "carvalue             -0.0026      0.001     -1.986      0.047      -0.005   -3.35e-05\n",
       "churn                 0.0256      0.026      0.980      0.327      -0.026       0.077\n",
       "commute               0.0086      0.005      1.579      0.114      -0.002       0.019\n",
       "commutebike          -0.0527      0.031     -1.705      0.088      -0.113       0.008\n",
       "commutebus           -0.0043      0.021     -0.209      0.834      -0.045       0.036\n",
       "commutecar            0.0696      0.033      2.134      0.033       0.006       0.133\n",
       "commutecarpool        0.0442      0.022      1.982      0.048       0.000       0.088\n",
       "commutemotorcycle     0.0089      0.032      0.276      0.783      -0.054       0.072\n",
       "commutenonmotor      -0.0904      0.044     -2.047      0.041      -0.177      -0.004\n",
       "commutepublic        -0.0122      0.034     -0.364      0.716      -0.078       0.054\n",
       "commuterail          -0.0242      0.023     -1.072      0.284      -0.068       0.020\n",
       "commutetime           0.0034      0.002      1.744      0.081      -0.000       0.007\n",
       "commutewalk           0.0071      0.022      0.325      0.745      -0.036       0.050\n",
       "confer               -0.0488      0.030     -1.629      0.103      -0.107       0.010\n",
       "debtinc_ln            0.8150      0.035     23.400      0.000       0.747       0.883\n",
       "default              -0.0046      0.027     -0.169      0.866      -0.059       0.049\n",
       "ebill                -0.0282      0.028     -1.019      0.308      -0.082       0.026\n",
       "ed                   -0.0014      0.004     -0.340      0.734      -0.009       0.006\n",
       "empcat                0.0076      0.018      0.418      0.676      -0.028       0.043\n",
       "employ               -0.0014      0.003     -0.485      0.627      -0.007       0.004\n",
       "equip                 0.0212      0.029      0.738      0.460      -0.035       0.078\n",
       "forward               0.0482      0.029      1.633      0.103      -0.010       0.106\n",
       "gender               -0.0876      0.020     -4.380      0.000      -0.127      -0.048\n",
       "homeown               0.0006      0.022      0.026      0.979      -0.042       0.043\n",
       "hometype              0.0295      0.011      2.693      0.007       0.008       0.051\n",
       "inccat               -0.0819      0.029     -2.789      0.005      -0.139      -0.024\n",
       "jobcat               -0.0145      0.007     -2.047      0.041      -0.028      -0.001\n",
       "jobsat               -0.0105      0.008     -1.233      0.218      -0.027       0.006\n",
       "lncreddebt           -0.2422      0.015    -16.705      0.000      -0.271      -0.214\n",
       "lninc                 1.4043      0.046     30.851      0.000       1.315       1.494\n",
       "lnlongmon            -0.0154      0.038     -0.402      0.688      -0.090       0.060\n",
       "lnlongten             0.0451      0.027      1.689      0.091      -0.007       0.097\n",
       "lnothdebt            -0.5608      0.026    -21.946      0.000      -0.611      -0.511\n",
       "marital              -0.0340      0.027     -1.264      0.206      -0.087       0.019\n",
       "multline             -0.0192      0.026     -0.752      0.452      -0.069       0.031\n",
       "news                 -0.0029      0.025     -0.117      0.907      -0.052       0.046\n",
       "owncd                -0.0273      0.049     -0.560      0.576      -0.123       0.068\n",
       "owndvd               -0.0064      0.045     -0.144      0.886      -0.094       0.081\n",
       "ownfax               -0.0234      0.033     -0.718      0.473      -0.087       0.041\n",
       "owngame               0.0108      0.024      0.446      0.656      -0.037       0.058\n",
       "ownipod               0.0046      0.024      0.193      0.847      -0.042       0.051\n",
       "ownpc                 0.0156      0.026      0.609      0.543      -0.035       0.066\n",
       "ownpda                0.0132      0.032      0.415      0.678      -0.049       0.075\n",
       "owntv                 0.1209      0.089      1.364      0.173      -0.053       0.295\n",
       "ownvcr               -0.0335      0.045     -0.741      0.458      -0.122       0.055\n",
       "pager                -0.0082      0.034     -0.240      0.811      -0.075       0.059\n",
       "polcontrib            0.0295      0.023      1.272      0.204      -0.016       0.075\n",
       "polparty              0.0067      0.021      0.323      0.747      -0.034       0.047\n",
       "polview              -0.0016      0.007     -0.215      0.830      -0.016       0.013\n",
       "reason                0.0002      0.003      0.071      0.943      -0.007       0.007\n",
       "region                0.0155      0.008      2.030      0.042       0.001       0.031\n",
       "reside                0.0113      0.010      1.118      0.264      -0.008       0.031\n",
       "response_01          -0.0087      0.037     -0.234      0.815      -0.081       0.064\n",
       "response_02          -0.0073      0.029     -0.248      0.804      -0.065       0.050\n",
       "response_03           0.0485      0.032      1.492      0.136      -0.015       0.112\n",
       "retire                0.0940      0.051      1.837      0.066      -0.006       0.194\n",
       "telecommute          -0.0204      0.026     -0.792      0.428      -0.071       0.030\n",
       "tenure               -0.0016      0.002     -0.812      0.417      -0.005       0.002\n",
       "tollfree             -0.0141      0.030     -0.473      0.636      -0.073       0.044\n",
       "townsize              0.0021      0.009      0.227      0.820      -0.016       0.020\n",
       "union                 0.0237      0.028      0.856      0.392      -0.031       0.078\n",
       "voice                -0.0473      0.031     -1.510      0.131      -0.109       0.014\n",
       "vote                 -0.0051      0.020     -0.252      0.801      -0.045       0.035\n",
       "wireless              0.0112      0.035      0.325      0.746      -0.057       0.079\n",
       "==============================================================================\n",
       "Omnibus:                       78.687   Durbin-Watson:                   2.025\n",
       "Prob(Omnibus):                  0.000   Jarque-Bera (JB):               83.734\n",
       "Skew:                          -0.366   Prob(JB):                     6.57e-19\n",
       "Kurtosis:                       3.199   Cond. No.                     1.04e+04\n",
       "==============================================================================\n",
       "\n",
       "Warnings:\n",
       "[1] Standard Errors assume that the covariance matrix of the errors is correctly specified.\n",
       "[2] The condition number is large, 1.04e+04. This might indicate that there are\n",
       "strong multicollinearity or other numerical problems.\n",
       "\"\"\""
      ]
     },
     "execution_count": 66,
     "metadata": {},
     "output_type": "execute_result"
    }
   ],
   "source": [
    "lm3= sm.OLS(y_train,X_train).fit()\n",
    "lm3.summary()"
   ]
  },
  {
   "cell_type": "code",
   "execution_count": 69,
   "metadata": {},
   "outputs": [],
   "source": [
    "from sklearn.ensemble import RandomForestRegressor"
   ]
  },
  {
   "cell_type": "code",
   "execution_count": 73,
   "metadata": {},
   "outputs": [
    {
     "data": {
      "text/plain": [
       "0.2971810983532559"
      ]
     },
     "execution_count": 73,
     "metadata": {},
     "output_type": "execute_result"
    }
   ],
   "source": [
    "clf_rf= RandomForestRegressor(n_estimators=100)\n",
    "clf_rf.fit(X_train, y_train)\n",
    "y_pred_rf= clf_rf.predict(X_test)\n",
    "clf_rf.score(X_test,y_test)"
   ]
  },
  {
   "cell_type": "code",
   "execution_count": 74,
   "metadata": {},
   "outputs": [
    {
     "data": {
      "text/plain": [
       "<matplotlib.axes._subplots.AxesSubplot at 0x29c4c7ea160>"
      ]
     },
     "execution_count": 74,
     "metadata": {},
     "output_type": "execute_result"
    },
    {
     "data": {
      "image/png": "[encoded data removed]",
      "text/plain": [
       "<Figure size 576x396 with 1 Axes>"
      ]
     },
     "metadata": {},
     "output_type": "display_data"
    }
   ],
   "source": [
    "ce=pd.DataFrame(clf_rf.feature_importances_, X_train.columns)\n",
    "ce.columns=['Coefficients']\n",
    "ce.sort_values('Coefficients',ascending=False,inplace=True)\n",
    "ce['Coefficients']=((ce['Coefficients'])*100).round(2)\n",
    "ce=ce.head(10)\n",
    "ce.to_excel(writer,'Variable_imp',index=True)\n",
    "ce=ce.head(12)\n",
    "ce.Coefficients.plot(kind='bar')"
   ]
  },
  {
   "cell_type": "raw",
   "metadata": {},
   "source": [
    "Thats the conclusion from my side."
   ]
  }
 ],
 "metadata": {
  "kernelspec": {
   "display_name": "Python 3",
   "language": "python",
   "name": "python3"
  },
  "language_info": {
   "codemirror_mode": {
    "name": "ipython",
    "version": 3
   },
   "file_extension": ".py",
   "mimetype": "text/x-python",
   "name": "python",
   "nbconvert_exporter": "python",
   "pygments_lexer": "ipython3",
   "version": "3.7.3"
  }
 },
 "nbformat": 4,
 "nbformat_minor": 2
}
